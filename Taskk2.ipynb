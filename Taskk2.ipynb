{
  "cells": [
    {
      "cell_type": "markdown",
      "metadata": {
        "id": "rE-O7uFnjRQz"
      },
      "source": [
        "# Numpy\n",
        "\n"
      ]
    },
    {
      "cell_type": "markdown",
      "metadata": {
        "id": "-bpjkaw2jRQ4"
      },
      "source": [
        "#### 1. Import the numpy package under the name `np` (★☆☆) \n",
        "(**hint**: import … as …)"
      ]
    },
    {
      "cell_type": "code",
      "execution_count": null,
      "metadata": {
        "collapsed": true,
        "id": "th4wpDG8jRQ5"
      },
      "outputs": [],
      "source": [
        "import numpy as np"
      ]
    },
    {
      "cell_type": "markdown",
      "metadata": {
        "id": "12wPQYmTjRQ5"
      },
      "source": [
        "#### 2. Print the numpy version and the configuration (★☆☆) \n",
        "(**hint**: np.\\_\\_version\\_\\_, np.show\\_config)"
      ]
    },
    {
      "cell_type": "code",
      "execution_count": null,
      "metadata": {
        "id": "a5R16JR7jRQ6",
        "colab": {
          "base_uri": "https://localhost:8080/"
        },
        "outputId": "d54d9215-61e9-48a8-fce2-282a1eeb9a0e"
      },
      "outputs": [
        {
          "output_type": "stream",
          "name": "stdout",
          "text": [
            "1.21.5\n",
            "blas_mkl_info:\n",
            "  NOT AVAILABLE\n",
            "blis_info:\n",
            "  NOT AVAILABLE\n",
            "openblas_info:\n",
            "    libraries = ['openblas', 'openblas']\n",
            "    library_dirs = ['/usr/local/lib']\n",
            "    language = c\n",
            "    define_macros = [('HAVE_CBLAS', None)]\n",
            "    runtime_library_dirs = ['/usr/local/lib']\n",
            "blas_opt_info:\n",
            "    libraries = ['openblas', 'openblas']\n",
            "    library_dirs = ['/usr/local/lib']\n",
            "    language = c\n",
            "    define_macros = [('HAVE_CBLAS', None)]\n",
            "    runtime_library_dirs = ['/usr/local/lib']\n",
            "lapack_mkl_info:\n",
            "  NOT AVAILABLE\n",
            "openblas_lapack_info:\n",
            "    libraries = ['openblas', 'openblas']\n",
            "    library_dirs = ['/usr/local/lib']\n",
            "    language = c\n",
            "    define_macros = [('HAVE_CBLAS', None)]\n",
            "    runtime_library_dirs = ['/usr/local/lib']\n",
            "lapack_opt_info:\n",
            "    libraries = ['openblas', 'openblas']\n",
            "    library_dirs = ['/usr/local/lib']\n",
            "    language = c\n",
            "    define_macros = [('HAVE_CBLAS', None)]\n",
            "    runtime_library_dirs = ['/usr/local/lib']\n",
            "Supported SIMD extensions in this NumPy install:\n",
            "    baseline = SSE,SSE2,SSE3\n",
            "    found = SSSE3,SSE41,POPCNT,SSE42,AVX,F16C,FMA3,AVX2\n",
            "    not found = AVX512F,AVX512CD,AVX512_KNL,AVX512_KNM,AVX512_SKX,AVX512_CLX,AVX512_CNL,AVX512_ICL\n"
          ]
        }
      ],
      "source": [
        "print(np.__version__)\n",
        "np.show_config()"
      ]
    },
    {
      "cell_type": "markdown",
      "metadata": {
        "id": "6KMgpq4IjRQ7"
      },
      "source": [
        "#### 3. Create a null vector of size 10 (★☆☆) \n",
        "(**hint**: np.zeros)"
      ]
    },
    {
      "cell_type": "code",
      "execution_count": null,
      "metadata": {
        "id": "yoARBinEjRQ7",
        "colab": {
          "base_uri": "https://localhost:8080/"
        },
        "outputId": "a5af2534-e78a-4718-f407-f9ee6fd9eee3"
      },
      "outputs": [
        {
          "output_type": "stream",
          "name": "stdout",
          "text": [
            "[0. 0. 0. 0. 0. 0. 0. 0. 0. 0.]\n"
          ]
        }
      ],
      "source": [
        "z = np.zeros(10)\n",
        "print(z)\n"
      ]
    },
    {
      "cell_type": "markdown",
      "metadata": {
        "id": "WbUd7RNzjRQ8"
      },
      "source": [
        "#### 4.  How to find the memory size of any array (★☆☆) \n",
        "(**hint**: size, itemsize)"
      ]
    },
    {
      "cell_type": "code",
      "execution_count": null,
      "metadata": {
        "id": "yV6CSSTsjRQ9",
        "colab": {
          "base_uri": "https://localhost:8080/"
        },
        "outputId": "bc48ce5a-db52-4d7d-df6d-6d496972404f"
      },
      "outputs": [
        {
          "output_type": "stream",
          "name": "stdout",
          "text": [
            "800 bytes\n"
          ]
        }
      ],
      "source": [
        "z = np.zeros((10,10))\n",
        "print(\"%d bytes\" % (z.size * z.itemsize))"
      ]
    },
    {
      "cell_type": "markdown",
      "metadata": {
        "id": "I6tZRWnGjRQ9"
      },
      "source": [
        "#### 5.  How to get the documentation of the numpy add function from the command line? (★☆☆) \n",
        "(**hint**: np.info)"
      ]
    },
    {
      "cell_type": "code",
      "execution_count": null,
      "metadata": {
        "collapsed": true,
        "id": "ZvtmjvZjjRQ-",
        "colab": {
          "base_uri": "https://localhost:8080/",
          "height": 130
        },
        "outputId": "8fcf8264-984a-44e8-c725-27f89caa20a1"
      },
      "outputs": [
        {
          "output_type": "error",
          "ename": "SyntaxError",
          "evalue": "ignored",
          "traceback": [
            "\u001b[0;36m  File \u001b[0;32m\"<ipython-input-5-1663cd30cb7c>\"\u001b[0;36m, line \u001b[0;32m1\u001b[0m\n\u001b[0;31m    python -c \"import numpy; numpy.info(numpy.add)\"\u001b[0m\n\u001b[0m                                                  ^\u001b[0m\n\u001b[0;31mSyntaxError\u001b[0m\u001b[0;31m:\u001b[0m invalid syntax\n"
          ]
        }
      ],
      "source": [
        "python -c \"import numpy; numpy.info(numpy.add)\""
      ]
    },
    {
      "cell_type": "markdown",
      "metadata": {
        "id": "hpRybdu1jRQ-"
      },
      "source": [
        "#### 6.  Create a null vector of size 10 but the fifth value which is 1 (★☆☆) \n",
        "(**hint**: array\\[4\\])"
      ]
    },
    {
      "cell_type": "code",
      "execution_count": null,
      "metadata": {
        "id": "3rToTUMdjRQ_",
        "colab": {
          "base_uri": "https://localhost:8080/"
        },
        "outputId": "a83d7614-2e9c-4630-cce9-2623eaae4bf9"
      },
      "outputs": [
        {
          "output_type": "stream",
          "name": "stdout",
          "text": [
            "[0. 0. 0. 0. 1. 0. 0. 0. 0. 0.]\n"
          ]
        }
      ],
      "source": [
        "z = np.zeros(10)\n",
        "z[4]=1\n",
        "print(z)"
      ]
    },
    {
      "cell_type": "markdown",
      "metadata": {
        "id": "Yxv_IePwjRQ_"
      },
      "source": [
        "#### 7.  Create a vector with values ranging from 10 to 49 (★☆☆) \n",
        "(**hint**: np.arange)"
      ]
    },
    {
      "cell_type": "code",
      "execution_count": null,
      "metadata": {
        "id": "G-vQGfjqjRRA",
        "colab": {
          "base_uri": "https://localhost:8080/"
        },
        "outputId": "4adb1b35-19da-4bc4-a146-e0c289767fb4"
      },
      "outputs": [
        {
          "output_type": "stream",
          "name": "stdout",
          "text": [
            "[10 11 12 13 14 15 16 17 18 19 20 21 22 23 24 25 26 27 28 29 30 31 32 33\n",
            " 34 35 36 37 38 39 40 41 42 43 44 45 46 47 48 49]\n"
          ]
        }
      ],
      "source": [
        "z = np.arange(10,50)\n",
        "print(z)"
      ]
    },
    {
      "cell_type": "markdown",
      "metadata": {
        "id": "bcgFBzYYjRRA"
      },
      "source": [
        "#### 8.  Reverse a vector (first element becomes last) (★☆☆) \n",
        "(**hint**: array\\[::-1\\])"
      ]
    },
    {
      "cell_type": "code",
      "execution_count": null,
      "metadata": {
        "id": "NRV7SlISjRRB",
        "colab": {
          "base_uri": "https://localhost:8080/"
        },
        "outputId": "ce636529-5317-499c-88e3-dfee032ede03"
      },
      "outputs": [
        {
          "output_type": "stream",
          "name": "stdout",
          "text": [
            "[49 48 47 46 45 44 43 42 41 40 39 38 37 36 35 34 33 32 31 30 29 28 27 26\n",
            " 25 24 23 22 21 20 19 18 17 16 15 14 13 12 11 10  9  8  7  6  5  4  3  2\n",
            "  1  0]\n"
          ]
        }
      ],
      "source": [
        "z = np.arange(50)\n",
        "z = z[::-1]\n",
        "print(z)"
      ]
    },
    {
      "cell_type": "markdown",
      "metadata": {
        "id": "EMibZxgXjRRB"
      },
      "source": [
        "#### 9.  Create a 3x3 matrix with values ranging from 0 to 8 (★☆☆) \n",
        "(**hint**: reshape)"
      ]
    },
    {
      "cell_type": "code",
      "execution_count": null,
      "metadata": {
        "id": "ZvJEcVlNjRRB",
        "colab": {
          "base_uri": "https://localhost:8080/"
        },
        "outputId": "52840d0d-a495-4cee-f7b4-f0faec3e8b47"
      },
      "outputs": [
        {
          "output_type": "stream",
          "name": "stdout",
          "text": [
            "[[0 1 2]\n",
            " [3 4 5]\n",
            " [6 7 8]]\n"
          ]
        }
      ],
      "source": [
        "z = np.arange(9).reshape(3,3)\n",
        "print(z)"
      ]
    },
    {
      "cell_type": "markdown",
      "metadata": {
        "id": "V507us2ljRRC"
      },
      "source": [
        "#### 10. Find indices of non-zero elements from \\[1,2,0,0,4,0\\] (★☆☆) \n",
        "(**hint**: np.nonzero)"
      ]
    },
    {
      "cell_type": "code",
      "execution_count": null,
      "metadata": {
        "id": "T7pzBmZYjRRC",
        "colab": {
          "base_uri": "https://localhost:8080/"
        },
        "outputId": "accb98dc-8cae-421a-bcad-40de4a413736"
      },
      "outputs": [
        {
          "output_type": "stream",
          "name": "stdout",
          "text": [
            "(array([0, 1, 4]),)\n"
          ]
        }
      ],
      "source": [
        "nz = np.nonzero([1,2,0,0,4,0])\n",
        "print(nz)"
      ]
    },
    {
      "cell_type": "markdown",
      "metadata": {
        "id": "Rw2NkrXHjRRC"
      },
      "source": [
        "#### 11. Create a 3x3 identity matrix (★☆☆) \n",
        "(**hint**: np.eye)"
      ]
    },
    {
      "cell_type": "code",
      "execution_count": null,
      "metadata": {
        "id": "bGxbhSO_jRRC",
        "colab": {
          "base_uri": "https://localhost:8080/"
        },
        "outputId": "a40a36f8-7cbe-4321-dda0-d6f3b6d7029c"
      },
      "outputs": [
        {
          "output_type": "stream",
          "name": "stdout",
          "text": [
            "[[1. 0. 0.]\n",
            " [0. 1. 0.]\n",
            " [0. 0. 1.]]\n"
          ]
        }
      ],
      "source": [
        "u = np.eye(3)\n",
        "print(u)"
      ]
    },
    {
      "cell_type": "markdown",
      "metadata": {
        "id": "ot8i6a6cjRRD"
      },
      "source": [
        "#### 12. Create a 3x3x3 array with random values (★☆☆) \n",
        "(**hint**: np.random.random)"
      ]
    },
    {
      "cell_type": "code",
      "execution_count": null,
      "metadata": {
        "collapsed": true,
        "id": "CoAXYWN7jRRD",
        "colab": {
          "base_uri": "https://localhost:8080/"
        },
        "outputId": "a766fdba-f9fc-408c-cb5c-f7808e63c4f3"
      },
      "outputs": [
        {
          "output_type": "stream",
          "name": "stdout",
          "text": [
            "[[[0.34852633 0.31698279 0.94418864]\n",
            "  [0.19390209 0.77587702 0.73455219]\n",
            "  [0.05711289 0.85269984 0.91275944]]\n",
            "\n",
            " [[0.90956854 0.46082009 0.85857632]\n",
            "  [0.6826251  0.58882493 0.57075907]\n",
            "  [0.42765342 0.24325162 0.30373403]]\n",
            "\n",
            " [[0.95075368 0.48831157 0.40336381]\n",
            "  [0.27387486 0.96138169 0.42483809]\n",
            "  [0.40945928 0.88260408 0.14375337]]]\n"
          ]
        }
      ],
      "source": [
        "x = np.random.random((3,3,3))\n",
        "print(x)"
      ]
    },
    {
      "cell_type": "markdown",
      "metadata": {
        "id": "ZD_3_vuijRRD"
      },
      "source": [
        "#### 13. Create a 10x10 array with random values and find the minimum and maximum values (★☆☆) \n",
        "(**hint**: min, max)"
      ]
    },
    {
      "cell_type": "code",
      "execution_count": null,
      "metadata": {
        "id": "0iOMcag2jRRD",
        "colab": {
          "base_uri": "https://localhost:8080/"
        },
        "outputId": "b6d59937-1167-462b-9bb5-0f26799518f1"
      },
      "outputs": [
        {
          "output_type": "stream",
          "name": "stdout",
          "text": [
            "0.005362370340041167 0.9731850752333285\n"
          ]
        }
      ],
      "source": [
        "n = np.random.random((10,10))\n",
        "mn, mx = n.min(), n.max()\n",
        "print(mn,mx)"
      ]
    },
    {
      "cell_type": "markdown",
      "metadata": {
        "id": "Ez7pNtKAjRRD"
      },
      "source": [
        "#### 14. Create a random vector of size 30 and find the mean value (★☆☆) \n",
        "(**hint**: mean)"
      ]
    },
    {
      "cell_type": "code",
      "execution_count": null,
      "metadata": {
        "id": "jo1uRpawjRRE",
        "colab": {
          "base_uri": "https://localhost:8080/"
        },
        "outputId": "763fa718-b0a6-4e73-f96e-a8ef4f0bdd8d"
      },
      "outputs": [
        {
          "output_type": "stream",
          "name": "stdout",
          "text": [
            "0.4894513838214615\n"
          ]
        }
      ],
      "source": [
        "c = np.random.random(30)\n",
        "me = c.mean()\n",
        "print(me)"
      ]
    },
    {
      "cell_type": "markdown",
      "metadata": {
        "id": "v5b52SmZjRRE"
      },
      "source": [
        "#### 15. Create a 2d array with 1 on the border and 0 inside (★☆☆) \n",
        "(**hint**: array\\[1:-1, 1:-1\\])"
      ]
    },
    {
      "cell_type": "code",
      "execution_count": null,
      "metadata": {
        "id": "K94nRARMjRRE",
        "colab": {
          "base_uri": "https://localhost:8080/"
        },
        "outputId": "5ba4a912-f2d8-4665-9bec-1956d45e28f5"
      },
      "outputs": [
        {
          "output_type": "stream",
          "name": "stdout",
          "text": [
            "[[1. 1. 1. 1. 1. 1. 1. 1. 1. 1.]\n",
            " [1. 0. 0. 0. 0. 0. 0. 0. 0. 1.]\n",
            " [1. 0. 0. 0. 0. 0. 0. 0. 0. 1.]\n",
            " [1. 0. 0. 0. 0. 0. 0. 0. 0. 1.]\n",
            " [1. 0. 0. 0. 0. 0. 0. 0. 0. 1.]\n",
            " [1. 0. 0. 0. 0. 0. 0. 0. 0. 1.]\n",
            " [1. 0. 0. 0. 0. 0. 0. 0. 0. 1.]\n",
            " [1. 0. 0. 0. 0. 0. 0. 0. 0. 1.]\n",
            " [1. 0. 0. 0. 0. 0. 0. 0. 0. 1.]\n",
            " [1. 1. 1. 1. 1. 1. 1. 1. 1. 1.]]\n"
          ]
        }
      ],
      "source": [
        "a = np.ones((10,10))\n",
        "a[1:-1,1:-1] = 0\n",
        "print(a)"
      ]
    },
    {
      "cell_type": "markdown",
      "metadata": {
        "id": "bdLpeXy3jRRE"
      },
      "source": [
        "#### 16. How to add a border (filled with 0's) around an existing array? (★☆☆) \n",
        "(**hint**: np.pad)"
      ]
    },
    {
      "cell_type": "code",
      "execution_count": null,
      "metadata": {
        "id": "UQY4PNkpjRRE",
        "colab": {
          "base_uri": "https://localhost:8080/"
        },
        "outputId": "9d63971b-bc74-4ce3-ee08-4563d2e0fe40"
      },
      "outputs": [
        {
          "output_type": "stream",
          "name": "stdout",
          "text": [
            "[[0. 0. 0. 0. 0. 0. 0.]\n",
            " [0. 1. 1. 1. 1. 1. 0.]\n",
            " [0. 1. 1. 1. 1. 1. 0.]\n",
            " [0. 1. 1. 1. 1. 1. 0.]\n",
            " [0. 1. 1. 1. 1. 1. 0.]\n",
            " [0. 1. 1. 1. 1. 1. 0.]\n",
            " [0. 0. 0. 0. 0. 0. 0.]]\n"
          ]
        }
      ],
      "source": [
        "b = np.ones((5,5))\n",
        "\n",
        "b = np.pad(b, pad_width = 1, mode = 'constant', constant_values=0)\n",
        "print(b)"
      ]
    },
    {
      "cell_type": "markdown",
      "metadata": {
        "id": "m3NsR_FqjRRF"
      },
      "source": [
        "#### 17. What is the result of the following expression? (★☆☆) \n",
        "(**hint**: NaN = not a number, inf = infinity)"
      ]
    },
    {
      "cell_type": "markdown",
      "metadata": {
        "id": "i2BCahjQjRRF"
      },
      "source": [
        "```python\n",
        "0 * np.nan\n",
        "np.nan == np.nan\n",
        "np.inf > np.nan\n",
        "np.nan - np.nan\n",
        "0.3 == 3 * 0.1\n",
        "```"
      ]
    },
    {
      "cell_type": "code",
      "execution_count": null,
      "metadata": {
        "id": "mtobfT7UjRRF",
        "colab": {
          "base_uri": "https://localhost:8080/"
        },
        "outputId": "031e1cb0-ee17-423a-be54-0511ecc95025"
      },
      "outputs": [
        {
          "output_type": "stream",
          "name": "stdout",
          "text": [
            "nan\n",
            "False\n",
            "False\n",
            "nan\n",
            "False\n"
          ]
        }
      ],
      "source": [
        "print(0 * np.nan)\n",
        "print(np.nan == np.nan)\n",
        "print(np.inf > np.nan)\n",
        "print(np.nan - np.nan)\n",
        "print(0.3 == 3 * 0.1)"
      ]
    },
    {
      "cell_type": "markdown",
      "metadata": {
        "id": "CAZDC_74jRRG"
      },
      "source": [
        "#### 18. Create a 5x5 matrix with values 1,2,3,4 just below the diagonal (★☆☆) \n",
        "(**hint**: np.diag)"
      ]
    },
    {
      "cell_type": "code",
      "execution_count": null,
      "metadata": {
        "id": "t1BvEsObjRRG",
        "colab": {
          "base_uri": "https://localhost:8080/"
        },
        "outputId": "36b45bd7-b834-4538-df99-f0dcbe28fc36"
      },
      "outputs": [
        {
          "output_type": "stream",
          "name": "stdout",
          "text": [
            "[[0 0 0 0 0]\n",
            " [1 0 0 0 0]\n",
            " [0 2 0 0 0]\n",
            " [0 0 3 0 0]\n",
            " [0 0 0 4 0]]\n"
          ]
        }
      ],
      "source": [
        "x = np.diag(1+np.arange(4),k=-1)\n",
        "print(x)"
      ]
    },
    {
      "cell_type": "markdown",
      "metadata": {
        "id": "4u_M6su6jRRG"
      },
      "source": [
        "#### 19. Create a 8x8 matrix and fill it with a checkerboard pattern (★☆☆) \n",
        "(**hint**: array\\[::2\\])"
      ]
    },
    {
      "cell_type": "code",
      "execution_count": null,
      "metadata": {
        "id": "pNF3UGh6jRRH",
        "colab": {
          "base_uri": "https://localhost:8080/"
        },
        "outputId": "ee5fa39a-9d18-47fd-957b-258b1b1cd2cf"
      },
      "outputs": [
        {
          "output_type": "stream",
          "name": "stdout",
          "text": [
            "[[0 1 0 1 0 1 0 1]\n",
            " [1 0 1 0 1 0 1 0]\n",
            " [0 1 0 1 0 1 0 1]\n",
            " [1 0 1 0 1 0 1 0]\n",
            " [0 1 0 1 0 1 0 1]\n",
            " [1 0 1 0 1 0 1 0]\n",
            " [0 1 0 1 0 1 0 1]\n",
            " [1 0 1 0 1 0 1 0]]\n"
          ]
        }
      ],
      "source": [
        "v = np.zeros((8,8),dtype= int)\n",
        "v[1::2,::2]=1\n",
        "v[::2,1::2]=1\n",
        "print(v)"
      ]
    },
    {
      "cell_type": "markdown",
      "metadata": {
        "id": "rIU-tYfEjRRH"
      },
      "source": [
        "#### 20. Consider a (6,7,8) shape array, what is the index (x,y,z) of the 100th element? \n",
        "(**hint**: np.unravel_index)"
      ]
    },
    {
      "cell_type": "code",
      "execution_count": null,
      "metadata": {
        "id": "mw2AGBkZjRRH",
        "colab": {
          "base_uri": "https://localhost:8080/"
        },
        "outputId": "cc35db30-2c4a-4e8b-aee6-b9e61b28305a"
      },
      "outputs": [
        {
          "output_type": "stream",
          "name": "stdout",
          "text": [
            "(1, 5, 4)\n"
          ]
        }
      ],
      "source": [
        "print(np.unravel_index(100,(6,7,8)))"
      ]
    },
    {
      "cell_type": "markdown",
      "metadata": {
        "id": "6gkdg3dmjRRI"
      },
      "source": [
        "#### 21. Create a checkerboard 8x8 matrix using the tile function (★☆☆) \n",
        "(**hint**: np.tile)"
      ]
    },
    {
      "cell_type": "code",
      "execution_count": null,
      "metadata": {
        "id": "_uqtttX0jRRI",
        "colab": {
          "base_uri": "https://localhost:8080/"
        },
        "outputId": "edab4e24-855b-45b5-c443-1a91f87e73f2"
      },
      "outputs": [
        {
          "output_type": "stream",
          "name": "stdout",
          "text": [
            "[[0 1 0 1 0 1 0 1]\n",
            " [1 0 1 0 1 0 1 0]\n",
            " [0 1 0 1 0 1 0 1]\n",
            " [1 0 1 0 1 0 1 0]\n",
            " [0 1 0 1 0 1 0 1]\n",
            " [1 0 1 0 1 0 1 0]\n",
            " [0 1 0 1 0 1 0 1]\n",
            " [1 0 1 0 1 0 1 0]]\n"
          ]
        }
      ],
      "source": [
        "v = np.tile(np.array([[0,1],[1,0]]),(4,4))\n",
        "print(v)"
      ]
    },
    {
      "cell_type": "markdown",
      "metadata": {
        "id": "32OgVJxEjRRI"
      },
      "source": [
        "#### 22. Normalize a 5x5 random matrix (★☆☆) \n",
        "(**hint**: (x - min) / (max - min))"
      ]
    },
    {
      "cell_type": "code",
      "execution_count": null,
      "metadata": {
        "id": "gFvfDR1njRRI",
        "colab": {
          "base_uri": "https://localhost:8080/"
        },
        "outputId": "5e7e80f1-1fb6-4d53-c3f2-730e637c78b7"
      },
      "outputs": [
        {
          "output_type": "stream",
          "name": "stdout",
          "text": [
            "[[0.97082499 0.96481032 0.37558939 0.1938958  0.23652572]\n",
            " [0.71841718 0.31077538 0.62010706 0.         0.64888928]\n",
            " [0.65358913 0.9898869  0.61821748 0.15671544 0.21252299]\n",
            " [0.40297877 0.75663055 0.57850463 0.17516515 0.07693758]\n",
            " [0.86485704 1.         0.13355751 0.40284005 0.53590671]]\n"
          ]
        }
      ],
      "source": [
        "x = np.random.random((5,5))\n",
        "x = (x - np.min(x))/(np.max(x)-np.min(x))\n",
        "print(x)"
      ]
    },
    {
      "cell_type": "markdown",
      "metadata": {
        "id": "KM_LxufOjRRJ"
      },
      "source": [
        "#### 23. Create a custom dtype that describes a color as four unsigned bytes (RGBA) (★☆☆) \n",
        "(**hint**: np.dtype)"
      ]
    },
    {
      "cell_type": "code",
      "execution_count": null,
      "metadata": {
        "collapsed": true,
        "id": "A9PfThRIjRRJ",
        "colab": {
          "base_uri": "https://localhost:8080/"
        },
        "outputId": "0b97ec9e-8fed-4194-98c9-e835ff882cf0"
      },
      "outputs": [
        {
          "output_type": "stream",
          "name": "stderr",
          "text": [
            "/usr/local/lib/python3.7/dist-packages/ipykernel_launcher.py:4: FutureWarning: Passing (type, 1) or '1type' as a synonym of type is deprecated; in a future version of numpy, it will be understood as (type, (1,)) / '(1,)type'.\n",
            "  after removing the cwd from sys.path.\n"
          ]
        }
      ],
      "source": [
        "col = np.dtype([(\"r\",np.ubyte,1),\n",
        "                (\"g\",np.ubyte,1),\n",
        "                (\"b\",np.ubyte,1),\n",
        "                (\"a\",np.ubyte,1)])"
      ]
    },
    {
      "cell_type": "markdown",
      "metadata": {
        "id": "1GI56KaQjRRJ"
      },
      "source": [
        "#### 24. Multiply a 5x3 matrix by a 3x2 matrix (real matrix product) (★☆☆) \n",
        "(**hint**: np.dot | @)"
      ]
    },
    {
      "cell_type": "code",
      "execution_count": null,
      "metadata": {
        "id": "EmgtPa9EjRRJ",
        "colab": {
          "base_uri": "https://localhost:8080/"
        },
        "outputId": "a13bce39-547c-4ae0-804f-3bc1cb68c660"
      },
      "outputs": [
        {
          "output_type": "stream",
          "name": "stdout",
          "text": [
            "[[3. 3.]\n",
            " [3. 3.]\n",
            " [3. 3.]\n",
            " [3. 3.]\n",
            " [3. 3.]]\n"
          ]
        }
      ],
      "source": [
        "x = np.ones((5,3)) @ np.ones((3,2))\n",
        "print(x)"
      ]
    },
    {
      "cell_type": "markdown",
      "metadata": {
        "id": "WxPa7Kv1jRRJ"
      },
      "source": [
        "#### 25. Given a 1D array, negate all elements which are between 3 and 8, in place. (★☆☆) \n",
        "(**hint**: >, <=)"
      ]
    },
    {
      "cell_type": "code",
      "execution_count": null,
      "metadata": {
        "id": "1-qzfDQ2jRRJ",
        "colab": {
          "base_uri": "https://localhost:8080/"
        },
        "outputId": "a6931a8c-9909-4cfc-9b63-08a49f22a8f9"
      },
      "outputs": [
        {
          "output_type": "stream",
          "name": "stdout",
          "text": [
            "[ 0  1  2  3 -4 -5 -6 -7 -8  9 10]\n"
          ]
        }
      ],
      "source": [
        "x = np.arange(11)\n",
        "x[(3<x)&(x<=8)] *= -1\n",
        "print(x)"
      ]
    },
    {
      "cell_type": "markdown",
      "metadata": {
        "id": "L8vC5fzsjRRK"
      },
      "source": [
        "#### 26. What is the output of the following script? (★☆☆) \n",
        "(**hint**: np.sum)"
      ]
    },
    {
      "cell_type": "markdown",
      "metadata": {
        "id": "tQ6JJL8jjRRK"
      },
      "source": [
        "```python\n",
        "# Author: Jake VanderPlas\n",
        "\n",
        "print(sum(range(5),-1))\n",
        "from numpy import *\n",
        "print(sum(range(5),-1))\n",
        "```"
      ]
    },
    {
      "cell_type": "code",
      "execution_count": null,
      "metadata": {
        "id": "68oZmyJMjRRK",
        "colab": {
          "base_uri": "https://localhost:8080/"
        },
        "outputId": "4cec9409-d15a-442a-d638-e9a6fa8345d5"
      },
      "outputs": [
        {
          "output_type": "stream",
          "name": "stdout",
          "text": [
            "9\n",
            "10\n"
          ]
        }
      ],
      "source": [
        "print(sum(range(5) ,-1))\n",
        "from numpy import *\n",
        "print(sum(range(5),-1))"
      ]
    },
    {
      "cell_type": "markdown",
      "metadata": {
        "id": "iv1hMGRRjRRK"
      },
      "source": [
        "#### 27. Consider an integer vector Z, which of these expressions are legal? (★☆☆)"
      ]
    },
    {
      "cell_type": "markdown",
      "metadata": {
        "id": "_AoKseX5jRRL"
      },
      "source": [
        "```python\n",
        "Z**Z\n",
        "2 << Z >> 2\n",
        "Z <- Z\n",
        "1j*Z\n",
        "Z/1/1\n",
        "Z<Z>Z\n",
        "```"
      ]
    },
    {
      "cell_type": "code",
      "execution_count": null,
      "metadata": {
        "id": "iwsuoq_NjRRL",
        "colab": {
          "base_uri": "https://localhost:8080/",
          "height": 200
        },
        "outputId": "25b500d7-bab8-4887-fd7c-a18b502930ae"
      },
      "outputs": [
        {
          "output_type": "error",
          "ename": "ValueError",
          "evalue": "ignored",
          "traceback": [
            "\u001b[0;31m---------------------------------------------------------------------------\u001b[0m",
            "\u001b[0;31mValueError\u001b[0m                                Traceback (most recent call last)",
            "\u001b[0;32m<ipython-input-27-f192ce01be0a>\u001b[0m in \u001b[0;36m<module>\u001b[0;34m()\u001b[0m\n\u001b[1;32m      4\u001b[0m \u001b[0;36m1j\u001b[0m\u001b[0;34m*\u001b[0m\u001b[0mz\u001b[0m\u001b[0;34m\u001b[0m\u001b[0;34m\u001b[0m\u001b[0m\n\u001b[1;32m      5\u001b[0m \u001b[0mz\u001b[0m\u001b[0;34m/\u001b[0m\u001b[0;36m1\u001b[0m\u001b[0;34m/\u001b[0m\u001b[0;36m1\u001b[0m\u001b[0;34m\u001b[0m\u001b[0;34m\u001b[0m\u001b[0m\n\u001b[0;32m----> 6\u001b[0;31m \u001b[0mz\u001b[0m\u001b[0;34m<\u001b[0m\u001b[0mz\u001b[0m\u001b[0;34m>\u001b[0m\u001b[0mz\u001b[0m\u001b[0;34m\u001b[0m\u001b[0;34m\u001b[0m\u001b[0m\n\u001b[0m",
            "\u001b[0;31mValueError\u001b[0m: The truth value of an array with more than one element is ambiguous. Use a.any() or a.all()"
          ]
        }
      ],
      "source": [
        "z**z\n",
        "2 << z >> 2\n",
        "z <- z\n",
        "1j*z\n",
        "z/1/1\n",
        "z<z>z"
      ]
    },
    {
      "cell_type": "markdown",
      "metadata": {
        "id": "5okGyc7wjRRM"
      },
      "source": [
        "#### 28. What are the result of the following expressions?"
      ]
    },
    {
      "cell_type": "markdown",
      "metadata": {
        "id": "UhvMDv6XjRRM"
      },
      "source": [
        "```python\n",
        "np.array(0) / np.array(0)\n",
        "np.array(0) // np.array(0)\n",
        "np.array([np.nan]).astype(int).astype(float)\n",
        "```"
      ]
    },
    {
      "cell_type": "code",
      "execution_count": null,
      "metadata": {
        "id": "i-B4p7X5jRRM",
        "colab": {
          "base_uri": "https://localhost:8080/"
        },
        "outputId": "cbbb9f58-fe7d-4e4a-9e0d-eeb817e3d923"
      },
      "outputs": [
        {
          "output_type": "stream",
          "name": "stdout",
          "text": [
            "nan\n",
            "0\n",
            "[-9.22337204e+18]\n"
          ]
        },
        {
          "output_type": "stream",
          "name": "stderr",
          "text": [
            "/usr/local/lib/python3.7/dist-packages/ipykernel_launcher.py:1: RuntimeWarning: invalid value encountered in true_divide\n",
            "  \"\"\"Entry point for launching an IPython kernel.\n",
            "/usr/local/lib/python3.7/dist-packages/ipykernel_launcher.py:2: RuntimeWarning: divide by zero encountered in floor_divide\n",
            "  \n"
          ]
        }
      ],
      "source": [
        "print(np.array(0) / np.array(0))\n",
        "print(np.array(0) // np.array(0))\n",
        "print(np.array([np.nan]).astype(int).astype(float))"
      ]
    },
    {
      "cell_type": "markdown",
      "metadata": {
        "id": "OQuQT6uAjRRN"
      },
      "source": [
        "#### 29. How to round away from zero a float array ? (★☆☆) \n",
        "(**hint**: np.uniform, np.copysign, np.ceil, np.abs)"
      ]
    },
    {
      "cell_type": "code",
      "execution_count": null,
      "metadata": {
        "id": "oiRO18TZjRRN",
        "colab": {
          "base_uri": "https://localhost:8080/"
        },
        "outputId": "0da54558-1b64-4ed1-db6d-e0cbbd7b9f77"
      },
      "outputs": [
        {
          "output_type": "stream",
          "name": "stdout",
          "text": [
            "[  1.   3.  10.   4.  10.   5.   2. -10.  -5.  -7.]\n"
          ]
        }
      ],
      "source": [
        "x = np.random.uniform(-10,+10,10)\n",
        "print(np.copysign(np.ceil(np.abs(x)),x))"
      ]
    },
    {
      "cell_type": "markdown",
      "metadata": {
        "id": "HhfmOVIfjRRN"
      },
      "source": [
        "#### 30. How to find common values between two arrays? (★☆☆) \n",
        "(**hint**: np.intersect1d)"
      ]
    },
    {
      "cell_type": "code",
      "execution_count": null,
      "metadata": {
        "id": "iIq_SV7GjRRN",
        "colab": {
          "base_uri": "https://localhost:8080/"
        },
        "outputId": "d782b112-cd26-4bfc-871d-eb3aaa21013c"
      },
      "outputs": [
        {
          "output_type": "stream",
          "name": "stdout",
          "text": [
            "[5 6 7 8]\n"
          ]
        }
      ],
      "source": [
        "x1 = np.random.randint(0,10,10)\n",
        "x2 = np.random.randint(0,10,10)\n",
        "print(np.intersect1d(x1,x2))"
      ]
    },
    {
      "cell_type": "markdown",
      "metadata": {
        "id": "KKzqOfbcjRRN"
      },
      "source": [
        "#### 31. How to ignore all numpy warnings (not recommended)? (★☆☆) \n",
        "(**hint**: np.seterr, np.errstate)"
      ]
    },
    {
      "cell_type": "code",
      "execution_count": null,
      "metadata": {
        "id": "BwAwDxRQjRRN"
      },
      "outputs": [],
      "source": [
        "defaults = np.seterr(all=\"ignore\")\n",
        "x = np.ones(1)/0\n",
        "_ = np.seterr(**defaults)\n",
        "\n",
        "with np.errstate(divide = 'ignore'):\n",
        "  z = np.ones(1)/0"
      ]
    },
    {
      "cell_type": "markdown",
      "metadata": {
        "id": "XPY9wqPSjRRO"
      },
      "source": [
        "#### 32. Is the following expressions true? (★☆☆) \n",
        "(**hint**: imaginary number)"
      ]
    },
    {
      "cell_type": "markdown",
      "metadata": {
        "id": "B5pVgwL9jRRO"
      },
      "source": [
        "```python\n",
        "np.sqrt(-1) == np.emath.sqrt(-1)\n",
        "```"
      ]
    },
    {
      "cell_type": "code",
      "execution_count": null,
      "metadata": {
        "id": "xXz0NesPjRRO",
        "colab": {
          "base_uri": "https://localhost:8080/"
        },
        "outputId": "7daa632f-1c10-41cf-9e55-2b1106863e7c"
      },
      "outputs": [
        {
          "output_type": "stream",
          "name": "stderr",
          "text": [
            "/usr/local/lib/python3.7/dist-packages/ipykernel_launcher.py:1: RuntimeWarning: invalid value encountered in sqrt\n",
            "  \"\"\"Entry point for launching an IPython kernel.\n"
          ]
        },
        {
          "output_type": "execute_result",
          "data": {
            "text/plain": [
              "False"
            ]
          },
          "metadata": {},
          "execution_count": 32
        }
      ],
      "source": [
        "np.sqrt(-1) == np.emath.sqrt(-1)"
      ]
    },
    {
      "cell_type": "markdown",
      "metadata": {
        "id": "wOX5yRdfjRRO"
      },
      "source": [
        "#### 33. How to get the dates of yesterday, today and tomorrow? (★☆☆) \n",
        "(**hint**: np.datetime64, np.timedelta64)"
      ]
    },
    {
      "cell_type": "code",
      "execution_count": null,
      "metadata": {
        "collapsed": true,
        "id": "RFyf-pQujRRP",
        "colab": {
          "base_uri": "https://localhost:8080/"
        },
        "outputId": "de173540-db84-4a0b-b8d4-badba69faafe"
      },
      "outputs": [
        {
          "output_type": "stream",
          "name": "stdout",
          "text": [
            "2022-04-08 2022-04-09 2022-04-10\n"
          ]
        }
      ],
      "source": [
        "yesterday = np.datetime64('today', 'D') - np.timedelta64(1, 'D')\n",
        "today     = np.datetime64('today', 'D')\n",
        "tomorrow  = np.datetime64('today', 'D') + np.timedelta64(1, 'D')\n",
        "print(yesterday, today, tomorrow)"
      ]
    },
    {
      "cell_type": "markdown",
      "metadata": {
        "id": "fZGqI_uBjRRP"
      },
      "source": [
        "#### 34. How to get all the dates corresponding to the month of July 2016? (★★☆) \n",
        "(**hint**: np.arange(dtype=datetime64\\['D'\\]))"
      ]
    },
    {
      "cell_type": "code",
      "execution_count": null,
      "metadata": {
        "id": "iuYqYsimjRRQ",
        "colab": {
          "base_uri": "https://localhost:8080/"
        },
        "outputId": "bb7653e8-0e83-4da0-9298-935132a7f240"
      },
      "outputs": [
        {
          "output_type": "stream",
          "name": "stdout",
          "text": [
            "['2016-07-01' '2016-07-02' '2016-07-03' '2016-07-04' '2016-07-05'\n",
            " '2016-07-06' '2016-07-07' '2016-07-08' '2016-07-09' '2016-07-10'\n",
            " '2016-07-11' '2016-07-12' '2016-07-13' '2016-07-14' '2016-07-15'\n",
            " '2016-07-16' '2016-07-17' '2016-07-18' '2016-07-19' '2016-07-20'\n",
            " '2016-07-21' '2016-07-22' '2016-07-23' '2016-07-24' '2016-07-25'\n",
            " '2016-07-26' '2016-07-27' '2016-07-28' '2016-07-29' '2016-07-30'\n",
            " '2016-07-31']\n"
          ]
        }
      ],
      "source": [
        "x = np.arange('2016-07','2016-08',dtype='datetime64[D]')\n",
        "print(x)"
      ]
    },
    {
      "cell_type": "markdown",
      "metadata": {
        "id": "tXxhFJWbjRRQ"
      },
      "source": [
        "#### 35. How to compute ((A+B)\\*(-A/2)) in place (without copy)? (★★☆) \n",
        "(**hint**: np.add(out=), np.negative(out=), np.multiply(out=), np.divide(out=))"
      ]
    },
    {
      "cell_type": "code",
      "execution_count": null,
      "metadata": {
        "id": "VpaoH8QnjRRQ",
        "colab": {
          "base_uri": "https://localhost:8080/"
        },
        "outputId": "2868ac7e-a1c7-4351-8a61-69fc95d8d152"
      },
      "outputs": [
        {
          "output_type": "execute_result",
          "data": {
            "text/plain": [
              "array([-1.5, -1.5, -1.5])"
            ]
          },
          "metadata": {},
          "execution_count": 35
        }
      ],
      "source": [
        "a = np.ones(3)*1\n",
        "b = np.ones(3)*2\n",
        "c = np.ones(3)*3\n",
        "np.add(a,b,out = b)\n",
        "np.divide(a,2,out = a)\n",
        "np.negative(a,out = a)\n",
        "np.multiply(a,b,out = a)"
      ]
    },
    {
      "cell_type": "markdown",
      "metadata": {
        "id": "kr8Dm811jRRR"
      },
      "source": [
        "#### 36. Extract the integer part of a random array using 5 different methods (★★☆) \n",
        "(**hint**: %, np.floor, np.ceil, astype, np.trunc)"
      ]
    },
    {
      "cell_type": "code",
      "execution_count": null,
      "metadata": {
        "id": "8ad4wIaYjRRR",
        "colab": {
          "base_uri": "https://localhost:8080/"
        },
        "outputId": "eb861d2d-140c-4b3c-ff59-5e12768a3ff9"
      },
      "outputs": [
        {
          "output_type": "stream",
          "name": "stdout",
          "text": [
            "[3. 2. 0. 4. 0. 2. 1. 4. 0. 6.]\n",
            "[3. 2. 0. 4. 0. 2. 1. 4. 0. 6.]\n",
            "[3. 2. 0. 4. 0. 2. 1. 4. 0. 6.]\n",
            "[3 2 0 4 0 2 1 4 0 6]\n",
            "[3. 2. 0. 4. 0. 2. 1. 4. 0. 6.]\n"
          ]
        }
      ],
      "source": [
        "c = np.random.uniform(0,10,10)\n",
        "print(c - c%1)\n",
        "print(np.floor(c))\n",
        "print(np.ceil(c)-1)\n",
        "print(c.astype(int))\n",
        "print(np.trunc(c))"
      ]
    },
    {
      "cell_type": "markdown",
      "metadata": {
        "id": "5SuqzEuPjRRR"
      },
      "source": [
        "#### 37. Create a 5x5 matrix with row values ranging from 0 to 4 (★★☆) \n",
        "(**hint**: np.arange)"
      ]
    },
    {
      "cell_type": "code",
      "execution_count": null,
      "metadata": {
        "id": "ySYbruoGjRRS",
        "colab": {
          "base_uri": "https://localhost:8080/"
        },
        "outputId": "370b847e-1caa-4c3f-820b-011b6d1a4950"
      },
      "outputs": [
        {
          "output_type": "stream",
          "name": "stdout",
          "text": [
            "[[0. 1. 2. 3. 4.]\n",
            " [0. 1. 2. 3. 4.]\n",
            " [0. 1. 2. 3. 4.]\n",
            " [0. 1. 2. 3. 4.]\n",
            " [0. 1. 2. 3. 4.]]\n"
          ]
        }
      ],
      "source": [
        "v = np.zeros((5,5))\n",
        "v += np.arange(5)\n",
        "print(v)"
      ]
    },
    {
      "cell_type": "markdown",
      "metadata": {
        "id": "CqgyftRGjRRS"
      },
      "source": [
        "#### 38. Consider a generator function that generates 10 integers and use it to build an array (★☆☆) \n",
        "(**hint**: np.fromiter)"
      ]
    },
    {
      "cell_type": "code",
      "execution_count": null,
      "metadata": {
        "id": "KdtFwFp8jRRS",
        "colab": {
          "base_uri": "https://localhost:8080/"
        },
        "outputId": "54302dd0-2ca6-4f65-a7ff-4854acb6edbe"
      },
      "outputs": [
        {
          "output_type": "stream",
          "name": "stdout",
          "text": [
            "[0. 1. 2. 3. 4. 5. 6. 7. 8. 9.]\n"
          ]
        }
      ],
      "source": [
        "def generate():\n",
        "  for i in range(10):\n",
        "    yield i\n",
        "\n",
        "x = np.fromiter(generate(),dtype=float,count=-1)\n",
        "print(x)"
      ]
    },
    {
      "cell_type": "markdown",
      "metadata": {
        "id": "7C0_4f62jRRS"
      },
      "source": [
        "#### 39. Create a vector of size 10 with values ranging from 0 to 1, both excluded (★★☆) \n",
        "(**hint**: np.linspace)"
      ]
    },
    {
      "cell_type": "code",
      "execution_count": null,
      "metadata": {
        "id": "6v6EOnoEjRRT",
        "colab": {
          "base_uri": "https://localhost:8080/"
        },
        "outputId": "55a58a96-babc-40a1-a011-29b8c9e0f08e"
      },
      "outputs": [
        {
          "output_type": "stream",
          "name": "stdout",
          "text": [
            "[0.09090909 0.18181818 0.27272727 0.36363636 0.45454545 0.54545455\n",
            " 0.63636364 0.72727273 0.81818182 0.90909091]\n"
          ]
        }
      ],
      "source": [
        "x = np.linspace(0,1,11,endpoint=False)[1:]\n",
        "print(x)"
      ]
    },
    {
      "cell_type": "markdown",
      "metadata": {
        "id": "3TEpDqemjRRT"
      },
      "source": [
        "#### 40. Create a random vector of size 10 and sort it (★★☆) \n",
        "(**hint**: sort)"
      ]
    },
    {
      "cell_type": "code",
      "execution_count": null,
      "metadata": {
        "id": "pgdPmhKYjRRT",
        "colab": {
          "base_uri": "https://localhost:8080/"
        },
        "outputId": "c37592c7-9eca-4958-a1ef-b7f7bcfa021d"
      },
      "outputs": [
        {
          "output_type": "stream",
          "name": "stdout",
          "text": [
            "[0.11692416 0.48617717 0.51748587 0.52614026 0.53858849 0.65020568\n",
            " 0.67854908 0.78246224 0.86910435 0.96564496]\n"
          ]
        }
      ],
      "source": [
        "x = np.random.random(10)\n",
        "x.sort()\n",
        "print(x)"
      ]
    },
    {
      "cell_type": "markdown",
      "metadata": {
        "id": "zBq_pW1xjRRT"
      },
      "source": [
        "#### 41. How to sum a small array faster than np.sum? (★★☆) \n",
        "(**hint**: np.add.reduce)"
      ]
    },
    {
      "cell_type": "code",
      "execution_count": null,
      "metadata": {
        "id": "-1VQBYXXjRRT",
        "colab": {
          "base_uri": "https://localhost:8080/"
        },
        "outputId": "fab82e76-2b1c-46e0-8b86-1290977e490b"
      },
      "outputs": [
        {
          "output_type": "execute_result",
          "data": {
            "text/plain": [
              "45"
            ]
          },
          "metadata": {},
          "execution_count": 41
        }
      ],
      "source": [
        "c = np.arange(10)\n",
        "np.add.reduce(c)"
      ]
    },
    {
      "cell_type": "markdown",
      "metadata": {
        "id": "LbFmV6a-jRRT"
      },
      "source": [
        "#### 42. Consider two random array A and B, check if they are equal (★★☆) \n",
        "(**hint**: np.allclose, np.array\\_equal)"
      ]
    },
    {
      "cell_type": "code",
      "execution_count": null,
      "metadata": {
        "id": "ZodG9GU5jRRU",
        "colab": {
          "base_uri": "https://localhost:8080/"
        },
        "outputId": "0788b6a2-ef7a-408d-f8a0-0b9d889ff76d"
      },
      "outputs": [
        {
          "output_type": "stream",
          "name": "stdout",
          "text": [
            "False\n",
            "False\n"
          ]
        }
      ],
      "source": [
        "a = np.random.randint(0,2,5)\n",
        "b = np.random.randint(0,2,5)\n",
        "equal = np.allclose(a,b)\n",
        "print(equal)\n",
        "eq = np.array_equal(a,b)\n",
        "print(eq)"
      ]
    },
    {
      "cell_type": "markdown",
      "metadata": {
        "id": "TTWnM9wfjRRU"
      },
      "source": [
        "#### 43. Make an array immutable (read-only) (★★☆) \n",
        "(**hint**: flags.writeable)"
      ]
    },
    {
      "cell_type": "code",
      "execution_count": null,
      "metadata": {
        "id": "sdPdPGdujRRU"
      },
      "outputs": [],
      "source": [
        "k = np.zeros(10)\n",
        "k.flags.writeable = False"
      ]
    },
    {
      "cell_type": "markdown",
      "metadata": {
        "id": "TxRLfFAYjRRU"
      },
      "source": [
        "#### 44. Consider a random 10x2 matrix representing cartesian coordinates, convert them to polar coordinates (★★☆) \n",
        "(**hint**: np.sqrt, np.arctan2)"
      ]
    },
    {
      "cell_type": "code",
      "execution_count": null,
      "metadata": {
        "id": "Ivzx5JjsjRRU",
        "colab": {
          "base_uri": "https://localhost:8080/"
        },
        "outputId": "6e6639fa-fb2b-4d70-aba6-a661f44ca16a"
      },
      "outputs": [
        {
          "output_type": "stream",
          "name": "stdout",
          "text": [
            "[0.74643507 0.71867374 0.90329418 0.8262027  0.17181821 0.1866922\n",
            " 0.47886304 0.72076765 0.19069836 0.80335124]\n",
            "[0.26751074 1.03318656 0.14151521 1.19669554 1.55911074 0.92941318\n",
            " 0.76201737 0.03037254 1.36186106 0.03493172]\n"
          ]
        }
      ],
      "source": [
        "k = np.random.random((10,2))\n",
        "x,y = k[:,0],k[:,1]\n",
        "a = np.sqrt(x**2+y**2)\n",
        "b = np.arctan2(y,x)\n",
        "print(a)\n",
        "print(b)"
      ]
    },
    {
      "cell_type": "markdown",
      "metadata": {
        "id": "2b-497YzjRRU"
      },
      "source": [
        "#### 45. Create random vector of size 10 and replace the maximum value by 0 (★★☆) \n",
        "(**hint**: argmax)"
      ]
    },
    {
      "cell_type": "code",
      "execution_count": null,
      "metadata": {
        "id": "z0u73g1mjRRU",
        "colab": {
          "base_uri": "https://localhost:8080/"
        },
        "outputId": "1762fb5e-291d-4fa4-ca5f-d59ef534d2f2"
      },
      "outputs": [
        {
          "output_type": "stream",
          "name": "stdout",
          "text": [
            "[0.05575562 0.2912441  0.45031456 0.10609946 0.06112672 0.\n",
            " 0.08151554 0.42812891 0.15168392 0.08481739]\n"
          ]
        }
      ],
      "source": [
        "x = np.random.random(10)\n",
        "x[x.argmax()]=0\n",
        "print(x)"
      ]
    },
    {
      "cell_type": "markdown",
      "metadata": {
        "id": "iqsOZZvEjRRV"
      },
      "source": [
        "#### 46. Create a structured array with `x` and `y` coordinates covering the \\[0,1\\]x\\[0,1\\] area (★★☆) \n",
        "(**hint**: np.meshgrid)"
      ]
    },
    {
      "cell_type": "code",
      "execution_count": null,
      "metadata": {
        "id": "jmxFpN3hjRRV",
        "colab": {
          "base_uri": "https://localhost:8080/"
        },
        "outputId": "4b155511-da85-42f4-eefe-d9f868b0c08a"
      },
      "outputs": [
        {
          "output_type": "stream",
          "name": "stdout",
          "text": [
            "[[(0.  , 0.  ) (0.25, 0.  ) (0.5 , 0.  ) (0.75, 0.  ) (1.  , 0.  )]\n",
            " [(0.  , 0.25) (0.25, 0.25) (0.5 , 0.25) (0.75, 0.25) (1.  , 0.25)]\n",
            " [(0.  , 0.5 ) (0.25, 0.5 ) (0.5 , 0.5 ) (0.75, 0.5 ) (1.  , 0.5 )]\n",
            " [(0.  , 0.75) (0.25, 0.75) (0.5 , 0.75) (0.75, 0.75) (1.  , 0.75)]\n",
            " [(0.  , 1.  ) (0.25, 1.  ) (0.5 , 1.  ) (0.75, 1.  ) (1.  , 1.  )]]\n"
          ]
        }
      ],
      "source": [
        "k = np.zeros((5,5),[('x',float),('y',float)])\n",
        "k['x'],k['y']= np.meshgrid(np.linspace(0,1,5),\n",
        "                           np.linspace(0,1,5))\n",
        "print(k)"
      ]
    },
    {
      "cell_type": "markdown",
      "metadata": {
        "id": "Fk0Qx8nYjRRV"
      },
      "source": [
        "####  47. Given two arrays, X and Y, construct the Cauchy matrix C (Cij =1/(xi - yj)) \n",
        "(**hint**: np.subtract.outer)"
      ]
    },
    {
      "cell_type": "code",
      "execution_count": null,
      "metadata": {
        "id": "HOPXCmntjRRV",
        "colab": {
          "base_uri": "https://localhost:8080/"
        },
        "outputId": "c2d74248-594c-4703-e8c8-c7b50c74844d"
      },
      "outputs": [
        {
          "output_type": "stream",
          "name": "stdout",
          "text": [
            "3638.163637117973\n"
          ]
        }
      ],
      "source": [
        "a = np.arange(8)\n",
        "b = a + 0.5\n",
        "c = 1.0/ np.subtract.outer(a,b)\n",
        "print(np.linalg.det(c))"
      ]
    },
    {
      "cell_type": "markdown",
      "metadata": {
        "id": "YWNiZPz_jRRV"
      },
      "source": [
        "#### 48. Print the minimum and maximum representable value for each numpy scalar type (★★☆) \n",
        "(**hint**: np.iinfo, np.finfo, eps)"
      ]
    },
    {
      "cell_type": "code",
      "execution_count": null,
      "metadata": {
        "id": "yXjo7qtZjRRV",
        "colab": {
          "base_uri": "https://localhost:8080/"
        },
        "outputId": "e64a445c-4a82-4de0-dbe4-97f2f07a5830"
      },
      "outputs": [
        {
          "output_type": "stream",
          "name": "stdout",
          "text": [
            "-128\n",
            "127\n",
            "-2147483648\n",
            "2147483647\n",
            "-9223372036854775808\n",
            "9223372036854775807\n",
            "-3.4028235e+38\n",
            "3.4028235e+38\n",
            "1.1920929e-07\n",
            "-1.7976931348623157e+308\n",
            "1.7976931348623157e+308\n",
            "2.220446049250313e-16\n"
          ]
        }
      ],
      "source": [
        "for dtype in [np.int8, np.int32, np.int64]:\n",
        "   print(np.iinfo(dtype).min)\n",
        "   print(np.iinfo(dtype).max)\n",
        "for dtype in [np.float32, np.float64]:\n",
        "   print(np.finfo(dtype).min)\n",
        "   print(np.finfo(dtype).max)\n",
        "   print(np.finfo(dtype).eps)"
      ]
    },
    {
      "cell_type": "markdown",
      "metadata": {
        "id": "yFSYMUgtjRRW"
      },
      "source": [
        "#### 49. How to print all the values of an array? (★★☆) \n",
        "(**hint**: np.set\\_printoptions)"
      ]
    },
    {
      "cell_type": "code",
      "execution_count": null,
      "metadata": {
        "id": "Do5PKbKbjRRW",
        "colab": {
          "base_uri": "https://localhost:8080/"
        },
        "outputId": "17a01893-1094-4f92-c6f6-c6018ce3b004"
      },
      "outputs": [
        {
          "output_type": "stream",
          "name": "stdout",
          "text": [
            "[[0. 0. 0. 0. 0. 0. 0. 0. 0. 0. 0. 0. 0. 0. 0. 0.]\n",
            " [0. 0. 0. 0. 0. 0. 0. 0. 0. 0. 0. 0. 0. 0. 0. 0.]\n",
            " [0. 0. 0. 0. 0. 0. 0. 0. 0. 0. 0. 0. 0. 0. 0. 0.]\n",
            " [0. 0. 0. 0. 0. 0. 0. 0. 0. 0. 0. 0. 0. 0. 0. 0.]\n",
            " [0. 0. 0. 0. 0. 0. 0. 0. 0. 0. 0. 0. 0. 0. 0. 0.]\n",
            " [0. 0. 0. 0. 0. 0. 0. 0. 0. 0. 0. 0. 0. 0. 0. 0.]\n",
            " [0. 0. 0. 0. 0. 0. 0. 0. 0. 0. 0. 0. 0. 0. 0. 0.]\n",
            " [0. 0. 0. 0. 0. 0. 0. 0. 0. 0. 0. 0. 0. 0. 0. 0.]\n",
            " [0. 0. 0. 0. 0. 0. 0. 0. 0. 0. 0. 0. 0. 0. 0. 0.]\n",
            " [0. 0. 0. 0. 0. 0. 0. 0. 0. 0. 0. 0. 0. 0. 0. 0.]\n",
            " [0. 0. 0. 0. 0. 0. 0. 0. 0. 0. 0. 0. 0. 0. 0. 0.]\n",
            " [0. 0. 0. 0. 0. 0. 0. 0. 0. 0. 0. 0. 0. 0. 0. 0.]\n",
            " [0. 0. 0. 0. 0. 0. 0. 0. 0. 0. 0. 0. 0. 0. 0. 0.]\n",
            " [0. 0. 0. 0. 0. 0. 0. 0. 0. 0. 0. 0. 0. 0. 0. 0.]\n",
            " [0. 0. 0. 0. 0. 0. 0. 0. 0. 0. 0. 0. 0. 0. 0. 0.]\n",
            " [0. 0. 0. 0. 0. 0. 0. 0. 0. 0. 0. 0. 0. 0. 0. 0.]]\n"
          ]
        }
      ],
      "source": [
        "np.set_printoptions(threshold=None)\n",
        "x = np.zeros((16,16))\n",
        "print(x)"
      ]
    },
    {
      "cell_type": "markdown",
      "metadata": {
        "id": "t6v1v-iGjRRW"
      },
      "source": [
        "#### 50. How to find the closest value (to a given scalar) in a vector? (★★☆) \n",
        "(**hint**: argmin)"
      ]
    },
    {
      "cell_type": "code",
      "execution_count": null,
      "metadata": {
        "id": "d6ZFGcXTjRRX",
        "colab": {
          "base_uri": "https://localhost:8080/"
        },
        "outputId": "d938b40a-4ef4-4f8e-ef8a-3a500b452722"
      },
      "outputs": [
        {
          "output_type": "stream",
          "name": "stdout",
          "text": [
            "12\n"
          ]
        }
      ],
      "source": [
        "x = np.arange(100)\n",
        "y = np.random.uniform(0,100)\n",
        "ind = (np.abs(x-y)).argmin()\n",
        "print(ind)"
      ]
    },
    {
      "cell_type": "markdown",
      "metadata": {
        "id": "mkTx8VcgjRRX"
      },
      "source": [
        "#### 51. Create a structured array representing a position (x,y) and a color (r,g,b) (★★☆) \n",
        "(**hint**: dtype)"
      ]
    },
    {
      "cell_type": "code",
      "execution_count": null,
      "metadata": {
        "id": "P7O5vyhnjRRX",
        "colab": {
          "base_uri": "https://localhost:8080/"
        },
        "outputId": "afad3a86-5c2c-4fe8-dcce-4d171e012124"
      },
      "outputs": [
        {
          "output_type": "stream",
          "name": "stdout",
          "text": [
            "[((0., 0.), (0., 0., 0.)) ((0., 0.), (0., 0., 0.))\n",
            " ((0., 0.), (0., 0., 0.)) ((0., 0.), (0., 0., 0.))\n",
            " ((0., 0.), (0., 0., 0.)) ((0., 0.), (0., 0., 0.))\n",
            " ((0., 0.), (0., 0., 0.)) ((0., 0.), (0., 0., 0.))\n",
            " ((0., 0.), (0., 0., 0.)) ((0., 0.), (0., 0., 0.))]\n"
          ]
        },
        {
          "output_type": "stream",
          "name": "stderr",
          "text": [
            "/usr/local/lib/python3.7/dist-packages/ipykernel_launcher.py:5: FutureWarning: Passing (type, 1) or '1type' as a synonym of type is deprecated; in a future version of numpy, it will be understood as (type, (1,)) / '(1,)type'.\n",
            "  \"\"\"\n"
          ]
        }
      ],
      "source": [
        "l = np.zeros(10, [ ('position', [ ('x', float, 1),\n",
        "                                  ('y', float, 1)]),\n",
        "                   ('color',    [ ('r', float, 1),\n",
        "                                  ('g', float, 1),\n",
        "                                  ('b', float, 1)])])\n",
        "print(l)"
      ]
    },
    {
      "cell_type": "markdown",
      "metadata": {
        "id": "HZjcmg-IjRRX"
      },
      "source": [
        "#### 52. Consider a random vector with shape (100,2) representing coordinates, find point by point distances (★★☆) \n",
        "(**hint**: np.atleast\\_2d, T, np.sqrt)"
      ]
    },
    {
      "cell_type": "code",
      "execution_count": null,
      "metadata": {
        "id": "IwZrXTdkjRRY",
        "colab": {
          "base_uri": "https://localhost:8080/"
        },
        "outputId": "7864d5b7-edb5-4f77-f885-6376a86f69d4"
      },
      "outputs": [
        {
          "output_type": "stream",
          "name": "stdout",
          "text": [
            "[[0.         0.74891313 0.57149551 0.33612195 0.57806167 0.38971508\n",
            "  0.50291385 0.54813284 0.61773847 0.90794824]\n",
            " [0.74891313 0.         0.26379907 0.89492174 0.60937273 0.87083286\n",
            "  0.89801615 0.2153994  0.496693   0.82743375]\n",
            " [0.57149551 0.26379907 0.         0.80118859 0.65892482 0.80172841\n",
            "  0.86242035 0.23524691 0.58158885 0.95005988]\n",
            " [0.33612195 0.89492174 0.80118859 0.         0.45496685 0.08342745\n",
            "  0.19901899 0.67999217 0.5554138  0.714479  ]\n",
            " [0.57806167 0.60937273 0.65892482 0.45496685 0.         0.38680392\n",
            "  0.34733642 0.43912382 0.12657231 0.33909079]\n",
            " [0.38971508 0.87083286 0.80172841 0.08342745 0.38680392 0.\n",
            "  0.11970705 0.65855805 0.49531597 0.63248154]\n",
            " [0.50291385 0.89801615 0.86242035 0.19901899 0.34733642 0.11970705\n",
            "  0.         0.69356514 0.46945713 0.5385183 ]\n",
            " [0.54813284 0.2153994  0.23524691 0.67999217 0.43912382 0.65855805\n",
            "  0.69356514 0.         0.34977386 0.7156706 ]\n",
            " [0.61773847 0.496693   0.58158885 0.5554138  0.12657231 0.49531597\n",
            "  0.46945713 0.34977386 0.         0.37099541]\n",
            " [0.90794824 0.82743375 0.95005988 0.714479   0.33909079 0.63248154\n",
            "  0.5385183  0.7156706  0.37099541 0.        ]]\n"
          ]
        }
      ],
      "source": [
        "x = np.random.random((10,2))\n",
        "a,b = np.atleast_2d(x[:,0],x[:,1])\n",
        "c = np.sqrt((a-a.T)**2 + (b-b.T)**2)\n",
        "print(c)"
      ]
    },
    {
      "cell_type": "markdown",
      "metadata": {
        "id": "2yODp6UujRRY"
      },
      "source": [
        "#### 53. How to convert a float (32 bits) array into an integer (32 bits) in place? \n",
        "(**hint**: astype(copy=False))"
      ]
    },
    {
      "cell_type": "code",
      "execution_count": null,
      "metadata": {
        "id": "0Ambh2xPjRRY",
        "colab": {
          "base_uri": "https://localhost:8080/"
        },
        "outputId": "dfc20157-3c92-4032-97d7-16cef3afc80c"
      },
      "outputs": [
        {
          "output_type": "stream",
          "name": "stdout",
          "text": [
            "[0 1 2 3 4 5 6 7 8 9]\n"
          ]
        }
      ],
      "source": [
        "x = np.arange(10,dtype=np.float32)\n",
        "x = x.astype(np.int32 ,copy = False)\n",
        "print(x)\n"
      ]
    },
    {
      "cell_type": "markdown",
      "metadata": {
        "id": "PnCFEPbEjRRY"
      },
      "source": [
        "#### 54. How to read the following file? (★★☆) \n",
        "(**hint**: np.genfromtxt)"
      ]
    },
    {
      "cell_type": "markdown",
      "metadata": {
        "id": "AAM1DlpAjRRY"
      },
      "source": [
        "```\n",
        "1, 2, 3, 4, 5\n",
        "6,  ,  , 7, 8\n",
        " ,  , 9,10,11\n",
        "```"
      ]
    },
    {
      "cell_type": "code",
      "execution_count": null,
      "metadata": {
        "id": "y0QdzujLjRRZ",
        "colab": {
          "base_uri": "https://localhost:8080/"
        },
        "outputId": "928f5ad7-00c9-4b66-80a5-9ec465f60e9d"
      },
      "outputs": [
        {
          "output_type": "stream",
          "name": "stdout",
          "text": [
            "[[ 1  2  3  4  5]\n",
            " [ 6 -1 -1  7  8]\n",
            " [-1 -1  9 10 11]]\n"
          ]
        },
        {
          "output_type": "stream",
          "name": "stderr",
          "text": [
            "/usr/local/lib/python3.7/dist-packages/ipykernel_launcher.py:6: DeprecationWarning: `np.int` is a deprecated alias for the builtin `int`. To silence this warning, use `int` by itself. Doing this will not modify any behavior and is safe. When replacing `np.int`, you may wish to use e.g. `np.int64` or `np.int32` to specify the precision. If you wish to review your current use, check the release note link for additional information.\n",
            "Deprecated in NumPy 1.20; for more details and guidance: https://numpy.org/devdocs/release/1.20.0-notes.html#deprecations\n",
            "  \n"
          ]
        }
      ],
      "source": [
        "from io import StringIO\n",
        "\n",
        "s = StringIO(\"\"\"1, 2, 3, 4, 5\\n\n",
        "                6,  ,  , 7, 8\\n\n",
        "                 ,  , 9,10,11\\n\"\"\")\n",
        "Z = np.genfromtxt(s, delimiter=\",\", dtype=np.int)\n",
        "print(Z)"
      ]
    },
    {
      "cell_type": "markdown",
      "metadata": {
        "id": "e-6l3yf8jRRZ"
      },
      "source": [
        "#### 55. What is the equivalent of enumerate for numpy arrays? (★★☆) \n",
        "(**hint**: np.ndenumerate, np.ndindex)"
      ]
    },
    {
      "cell_type": "code",
      "execution_count": null,
      "metadata": {
        "id": "AlxICblsjRRZ",
        "colab": {
          "base_uri": "https://localhost:8080/"
        },
        "outputId": "315d7b36-9c0c-4230-e09e-a0474e785d1d"
      },
      "outputs": [
        {
          "output_type": "stream",
          "name": "stdout",
          "text": [
            "(0, 0) 0\n",
            "(0, 1) 1\n",
            "(0, 2) 2\n",
            "(1, 0) 3\n",
            "(1, 1) 4\n",
            "(1, 2) 5\n",
            "(2, 0) 6\n",
            "(2, 1) 7\n",
            "(2, 2) 8\n",
            "(0, 0) 0\n",
            "(0, 1) 1\n",
            "(0, 2) 2\n",
            "(1, 0) 3\n",
            "(1, 1) 4\n",
            "(1, 2) 5\n",
            "(2, 0) 6\n",
            "(2, 1) 7\n",
            "(2, 2) 8\n"
          ]
        }
      ],
      "source": [
        "x = np.arange(9).reshape(3,3)\n",
        "for ind, val in np.ndenumerate(x):\n",
        "  print(ind, val)\n",
        "\n",
        "for ind in np.ndindex(x.shape):\n",
        "  print(ind, x[ind])"
      ]
    },
    {
      "cell_type": "markdown",
      "metadata": {
        "id": "8TAhBmU5jRRZ"
      },
      "source": [
        "#### 56. Generate a generic 2D Gaussian-like array (★★☆) \n",
        "(**hint**: np.meshgrid, np.exp)"
      ]
    },
    {
      "cell_type": "code",
      "execution_count": null,
      "metadata": {
        "id": "gvDuSGG0jRRZ",
        "colab": {
          "base_uri": "https://localhost:8080/"
        },
        "outputId": "9d4821af-409a-4a24-dc74-af88a02344a6"
      },
      "outputs": [
        {
          "output_type": "stream",
          "name": "stdout",
          "text": [
            "[[0.36787944 0.44822088 0.51979489 0.57375342 0.60279818 0.60279818\n",
            "  0.57375342 0.51979489 0.44822088 0.36787944]\n",
            " [0.44822088 0.54610814 0.63331324 0.69905581 0.73444367 0.73444367\n",
            "  0.69905581 0.63331324 0.54610814 0.44822088]\n",
            " [0.51979489 0.63331324 0.73444367 0.81068432 0.85172308 0.85172308\n",
            "  0.81068432 0.73444367 0.63331324 0.51979489]\n",
            " [0.57375342 0.69905581 0.81068432 0.89483932 0.9401382  0.9401382\n",
            "  0.89483932 0.81068432 0.69905581 0.57375342]\n",
            " [0.60279818 0.73444367 0.85172308 0.9401382  0.98773022 0.98773022\n",
            "  0.9401382  0.85172308 0.73444367 0.60279818]\n",
            " [0.60279818 0.73444367 0.85172308 0.9401382  0.98773022 0.98773022\n",
            "  0.9401382  0.85172308 0.73444367 0.60279818]\n",
            " [0.57375342 0.69905581 0.81068432 0.89483932 0.9401382  0.9401382\n",
            "  0.89483932 0.81068432 0.69905581 0.57375342]\n",
            " [0.51979489 0.63331324 0.73444367 0.81068432 0.85172308 0.85172308\n",
            "  0.81068432 0.73444367 0.63331324 0.51979489]\n",
            " [0.44822088 0.54610814 0.63331324 0.69905581 0.73444367 0.73444367\n",
            "  0.69905581 0.63331324 0.54610814 0.44822088]\n",
            " [0.36787944 0.44822088 0.51979489 0.57375342 0.60279818 0.60279818\n",
            "  0.57375342 0.51979489 0.44822088 0.36787944]]\n"
          ]
        }
      ],
      "source": [
        "a, b = np.meshgrid(np.linspace(-1,1,10),np.linspace(-1,1,10))\n",
        "c = np.sqrt(a*a+b*b)\n",
        "sigma , mu = 1.0, 0.0\n",
        "d = np.exp(-((c-mu)**2 / (2.0* sigma**2)))\n",
        "print(d)"
      ]
    },
    {
      "cell_type": "markdown",
      "metadata": {
        "id": "znQs3HR6jRRZ"
      },
      "source": [
        "#### 57. How to randomly place p elements in a 2D array? (★★☆) \n",
        "(**hint**: np.put, np.random.choice)"
      ]
    },
    {
      "cell_type": "code",
      "execution_count": null,
      "metadata": {
        "id": "1MO-q3tgjRRZ",
        "colab": {
          "base_uri": "https://localhost:8080/"
        },
        "outputId": "a64c5472-089a-4ca3-fd31-d279ddf37614"
      },
      "outputs": [
        {
          "output_type": "stream",
          "name": "stdout",
          "text": [
            "[[0. 0. 0. 0. 0. 0. 0. 0. 0. 0.]\n",
            " [0. 0. 0. 0. 0. 0. 0. 0. 0. 0.]\n",
            " [0. 0. 0. 0. 0. 0. 0. 0. 0. 0.]\n",
            " [0. 0. 0. 0. 0. 1. 0. 0. 0. 0.]\n",
            " [0. 0. 0. 0. 0. 0. 0. 0. 0. 0.]\n",
            " [0. 0. 0. 0. 0. 0. 1. 0. 0. 0.]\n",
            " [0. 0. 0. 0. 0. 0. 0. 0. 0. 0.]\n",
            " [0. 0. 0. 0. 0. 0. 0. 0. 0. 0.]\n",
            " [0. 1. 0. 0. 0. 0. 0. 0. 0. 0.]\n",
            " [0. 0. 0. 0. 0. 0. 0. 0. 0. 0.]]\n"
          ]
        }
      ],
      "source": [
        "n = 10\n",
        "p = 3\n",
        "x = np.zeros((n,n))\n",
        "np.put(x, np.random.choice(range(n*n), p, replace = False),1)\n",
        "print(x)\n"
      ]
    },
    {
      "cell_type": "markdown",
      "metadata": {
        "id": "0Xqj0Y0KjRRa"
      },
      "source": [
        "#### 58. Subtract the mean of each row of a matrix (★★☆) \n",
        "(**hint**: mean(axis=,keepdims=))"
      ]
    },
    {
      "cell_type": "code",
      "execution_count": null,
      "metadata": {
        "id": "VOxwWxt8jRRa",
        "colab": {
          "base_uri": "https://localhost:8080/"
        },
        "outputId": "4e8d7fd7-4652-4c3d-8bb1-dd213cafa9e1"
      },
      "outputs": [
        {
          "output_type": "stream",
          "name": "stdout",
          "text": [
            "[[-0.28407352  0.44598434  0.48550543 -0.2958746   0.18235674 -0.47746751\n",
            "   0.17916933 -0.15341755 -0.30977431  0.22759164]\n",
            " [-0.21061943 -0.28932763  0.17354177 -0.0646671   0.44628424  0.38665907\n",
            "  -0.24848304 -0.12149867  0.42025655 -0.49214577]\n",
            " [-0.07499408  0.33940735 -0.32303595  0.20921883  0.30506604 -0.22123344\n",
            "   0.50208809 -0.34200389 -0.01264349 -0.38186946]\n",
            " [-0.0838666  -0.14977874  0.04591227  0.12342075 -0.06294483  0.17064059\n",
            "  -0.2371131  -0.02231566  0.04865091  0.1673944 ]\n",
            " [-0.01675709  0.31044882  0.46851507 -0.45105723  0.3284902  -0.38810802\n",
            "   0.10449392  0.27925473 -0.42922918 -0.20605122]]\n"
          ]
        }
      ],
      "source": [
        "z = np.random.rand(5,10)\n",
        "x = z-z.mean(axis = 1, keepdims = True)\n",
        "print(x)"
      ]
    },
    {
      "cell_type": "markdown",
      "metadata": {
        "id": "pcIi7KgRjRRa"
      },
      "source": [
        "#### 59. How to sort an array by the nth column? (★★☆) \n",
        "(**hint**: argsort)"
      ]
    },
    {
      "cell_type": "code",
      "execution_count": null,
      "metadata": {
        "id": "aBITrlHojRRa",
        "colab": {
          "base_uri": "https://localhost:8080/"
        },
        "outputId": "9d907057-55d7-4e2f-c2f0-eceb969d6b3a"
      },
      "outputs": [
        {
          "output_type": "stream",
          "name": "stdout",
          "text": [
            "[[6 4 6]\n",
            " [0 2 5]\n",
            " [8 4 8]]\n",
            "[[0 2 5]\n",
            " [6 4 6]\n",
            " [8 4 8]]\n"
          ]
        }
      ],
      "source": [
        "x = np.random.randint(0,10,(3,3))\n",
        "print(x)\n",
        "print(x[x[:,1].argsort()])"
      ]
    },
    {
      "cell_type": "markdown",
      "metadata": {
        "id": "RL4Xc_YijRRa"
      },
      "source": [
        "#### 60. How to tell if a given 2D array has null columns? (★★☆) \n",
        "(**hint**: any, ~)"
      ]
    },
    {
      "cell_type": "code",
      "execution_count": null,
      "metadata": {
        "id": "VHeMY0vFjRRa",
        "colab": {
          "base_uri": "https://localhost:8080/"
        },
        "outputId": "f22457e8-8480-40e0-9077-167519da1276"
      },
      "outputs": [
        {
          "output_type": "stream",
          "name": "stdout",
          "text": [
            "False\n"
          ]
        }
      ],
      "source": [
        "x = np.random.randint(0,3,(3,10))\n",
        "print((~x.any(axis=0)).any())"
      ]
    },
    {
      "cell_type": "markdown",
      "metadata": {
        "id": "7ue1bIuJjRRa"
      },
      "source": [
        "#### 61. Find the nearest value from a given value in an array (★★☆) \n",
        "(**hint**: np.abs, argmin, flat)"
      ]
    },
    {
      "cell_type": "code",
      "execution_count": null,
      "metadata": {
        "id": "yj1OAKY6jRRb",
        "colab": {
          "base_uri": "https://localhost:8080/"
        },
        "outputId": "7ecc4dbf-13c9-498d-8c3f-ebb631b49cee"
      },
      "outputs": [
        {
          "output_type": "stream",
          "name": "stdout",
          "text": [
            "0.4703240646815817\n"
          ]
        }
      ],
      "source": [
        "x = np.random.uniform(0,1,10)\n",
        "c = 0.5\n",
        "v = x.flat[np.abs(x-c).argmin()]\n",
        "print(v)"
      ]
    },
    {
      "cell_type": "markdown",
      "metadata": {
        "id": "Kt1prEpzjRRb"
      },
      "source": [
        "#### 62. Considering two arrays with shape (1,3) and (3,1), how to compute their sum using an iterator? (★★☆) \n",
        "(**hint**: np.nditer)"
      ]
    },
    {
      "cell_type": "code",
      "execution_count": null,
      "metadata": {
        "id": "cHhPNPmmjRRb",
        "colab": {
          "base_uri": "https://localhost:8080/"
        },
        "outputId": "d97f9a39-38e3-45e1-838d-88305bc20673"
      },
      "outputs": [
        {
          "output_type": "stream",
          "name": "stdout",
          "text": [
            "[[0 1 2]\n",
            " [1 2 3]\n",
            " [2 3 4]]\n"
          ]
        }
      ],
      "source": [
        "a = np.arange(3).reshape(3,1)\n",
        "b = np.arange(3).reshape(1,3)\n",
        "i = np.nditer([a,b,None])\n",
        "for x,y,z in i: z[...] = x + y\n",
        "print(i.operands[2])\n"
      ]
    },
    {
      "cell_type": "markdown",
      "metadata": {
        "id": "7eCv0m9JjRRb"
      },
      "source": [
        "#### 63. Create an array class that has a name attribute (★★☆) \n",
        "(**hint**: class method)"
      ]
    },
    {
      "cell_type": "code",
      "execution_count": null,
      "metadata": {
        "id": "bhHuzlO6jRRb",
        "colab": {
          "base_uri": "https://localhost:8080/"
        },
        "outputId": "8fd2273c-6fea-4492-f2cd-7b74cb078fe5"
      },
      "outputs": [
        {
          "output_type": "stream",
          "name": "stdout",
          "text": [
            "range_10\n"
          ]
        }
      ],
      "source": [
        "class NArray(np.ndarray):\n",
        "    def __new__(cls, array, name=\"no name\"):\n",
        "        obj = np.asarray(array).view(cls)\n",
        "        obj.name = name\n",
        "        return obj\n",
        "    def afinal(self, obj):\n",
        "        if obj is None: return\n",
        "        self.info = getattr(obj, 'name', \"no name\")\n",
        "\n",
        "Z = NArray(np.arange(10), \"range_10\")\n",
        "print (Z.name)"
      ]
    },
    {
      "cell_type": "markdown",
      "metadata": {
        "id": "6-cOCPpHjRRc"
      },
      "source": [
        "#### 64. Consider a given vector, how to add 1 to each element indexed by a second vector (be careful with repeated indices)? (★★★) \n",
        "(**hint**: np.bincount | np.add.at)"
      ]
    },
    {
      "cell_type": "code",
      "execution_count": null,
      "metadata": {
        "id": "MeqhvEm1jRRc",
        "colab": {
          "base_uri": "https://localhost:8080/"
        },
        "outputId": "8ead8640-2525-4fd0-c67d-661034972f15"
      },
      "outputs": [
        {
          "output_type": "stream",
          "name": "stdout",
          "text": [
            "[2. 2. 3. 2. 5. 3. 4. 3. 4. 2.]\n"
          ]
        }
      ],
      "source": [
        "x = np.ones(10)\n",
        "y = np.random.randint(0,len(x),20)\n",
        "#x += np.bincount(y, minlength=len(x))\n",
        "np.add.at(x,y,1)\n",
        "print(x)"
      ]
    },
    {
      "cell_type": "markdown",
      "metadata": {
        "id": "WwWbKAiUjRRc"
      },
      "source": [
        "#### 65. How to accumulate elements of a vector (X) to an array (F) based on an index list (I)? (★★★) \n",
        "(**hint**: np.bincount)"
      ]
    },
    {
      "cell_type": "code",
      "execution_count": null,
      "metadata": {
        "id": "YJl29xuyjRRd",
        "colab": {
          "base_uri": "https://localhost:8080/"
        },
        "outputId": "25af9bed-7b24-438b-dbcc-4c39d3cc3a01"
      },
      "outputs": [
        {
          "output_type": "stream",
          "name": "stdout",
          "text": [
            "[ 0.  0.  2.  8.  0.  0.  0.  2.  0. 13.]\n"
          ]
        }
      ],
      "source": [
        "a = [9,1,2,1,8,4]\n",
        "b = [9,2,7,2,3,9]\n",
        "F = np.bincount(b,a)\n",
        "print(F)"
      ]
    },
    {
      "cell_type": "markdown",
      "metadata": {
        "id": "zt4wVfgojRRd"
      },
      "source": [
        "#### 66. Considering a (w,h,3) image of (dtype=ubyte), compute the number of unique colors (★★★) \n",
        "(**hint**: np.unique)"
      ]
    },
    {
      "cell_type": "code",
      "execution_count": null,
      "metadata": {
        "id": "LbBWuBmJjRRd",
        "colab": {
          "base_uri": "https://localhost:8080/"
        },
        "outputId": "4fed1714-01ac-4f69-cb3b-ac2158efc737"
      },
      "outputs": [
        {
          "output_type": "stream",
          "name": "stdout",
          "text": [
            "8\n"
          ]
        }
      ],
      "source": [
        "a,b = 16,16\n",
        "z = np.random.randint(0,2,(b,a,3)).astype(np.ubyte)\n",
        "\n",
        "c = z[...,0]*(256*256) + z[...,1]*256 +z[...,2]\n",
        "n = len(np.unique(c))\n",
        "print(n)"
      ]
    },
    {
      "cell_type": "markdown",
      "metadata": {
        "id": "NsJFsDz6jRRd"
      },
      "source": [
        "#### 67. Considering a four dimensions array, how to get sum over the last two axis at once? (★★★) \n",
        "(**hint**: sum(axis=(-2,-1)))"
      ]
    },
    {
      "cell_type": "code",
      "execution_count": null,
      "metadata": {
        "id": "OI7Ti3M4jRRd",
        "colab": {
          "base_uri": "https://localhost:8080/"
        },
        "outputId": "a67ddb0c-803e-47c8-9206-22a74c35a5db"
      },
      "outputs": [
        {
          "output_type": "stream",
          "name": "stdout",
          "text": [
            "[[58 30 49 58 38]\n",
            " [42 30 43 55 52]]\n"
          ]
        }
      ],
      "source": [
        "x = np.random.randint(0,10,(2,5,2,5))\n",
        "sum = x.sum(axis = (-2,-1))\n",
        "print(sum)"
      ]
    },
    {
      "cell_type": "markdown",
      "metadata": {
        "id": "S5MbmpSEjRRd"
      },
      "source": [
        "#### 68. Considering a one-dimensional vector D, how to compute means of subsets of D using a vector S of same size describing subset  indices? (★★★) \n",
        "(**hint**: np.bincount)"
      ]
    },
    {
      "cell_type": "code",
      "execution_count": null,
      "metadata": {
        "id": "1CCc_Q3rjRRe",
        "colab": {
          "base_uri": "https://localhost:8080/"
        },
        "outputId": "38536f0b-424d-4cfd-bd22-5b01cfbd7285"
      },
      "outputs": [
        {
          "output_type": "stream",
          "name": "stdout",
          "text": [
            "[0.52625041 0.49456504 0.49437784 0.54621613 0.35798758 0.4197946\n",
            " 0.43844243 0.66317691 0.56928977 0.68760367]\n"
          ]
        }
      ],
      "source": [
        "z = np.random.uniform(0,1,100)\n",
        "x = np.random.randint(0,10,100)\n",
        "zsums = np.bincount(x, weights=z)\n",
        "zcounts = np.bincount(x)\n",
        "zmeans = zsums / zcounts\n",
        "print(zmeans)\n"
      ]
    },
    {
      "cell_type": "markdown",
      "metadata": {
        "id": "P3O2z4vljRRe"
      },
      "source": [
        "#### 69. How to get the diagonal of a dot product? (★★★) \n",
        "(**hint**: np.diag)"
      ]
    },
    {
      "cell_type": "code",
      "execution_count": null,
      "metadata": {
        "id": "YRUFTqXEjRRe",
        "colab": {
          "base_uri": "https://localhost:8080/"
        },
        "outputId": "619a27f7-abda-452d-c714-48da0f6b6fca"
      },
      "outputs": [
        {
          "output_type": "execute_result",
          "data": {
            "text/plain": [
              "array([1.10392179, 1.04277349, 1.41671185, 1.0106405 ])"
            ]
          },
          "metadata": {},
          "execution_count": 69
        }
      ],
      "source": [
        "x = np.random.uniform(0,1,(4,4))\n",
        "y = np.random.uniform(0,1,(4,4))\n",
        "np.diag(np.dot(x,y))"
      ]
    },
    {
      "cell_type": "markdown",
      "metadata": {
        "id": "rv890Ns2jRRe"
      },
      "source": [
        "#### 70. Consider the vector \\[1, 2, 3, 4, 5\\], how to build a new vector with 3 consecutive zeros interleaved between each value? (★★★) \n",
        "(**hint**: array\\[::4\\])"
      ]
    },
    {
      "cell_type": "code",
      "execution_count": null,
      "metadata": {
        "id": "9HrqSwy-jRRe",
        "colab": {
          "base_uri": "https://localhost:8080/"
        },
        "outputId": "3a9a3687-b4af-4cb7-f54f-b7c77f4285f0"
      },
      "outputs": [
        {
          "output_type": "stream",
          "name": "stdout",
          "text": [
            "[9. 0. 0. 0. 8. 0. 0. 0. 7. 0. 0. 0. 6. 0. 0. 0. 5.]\n"
          ]
        }
      ],
      "source": [
        "x = np.array([9,8,7,6,5])\n",
        "c = 3\n",
        "x0 = np.zeros(len(x)+(len(x)-1)*c)\n",
        "x0[::c+1] = x\n",
        "print(x0)"
      ]
    },
    {
      "cell_type": "markdown",
      "metadata": {
        "id": "E9I4tVjxjRRf"
      },
      "source": [
        "#### 71. Consider an array of dimension (5,5,3), how to mulitply it by an array with dimensions (5,5)? (★★★) \n",
        "(**hint**: array\\[:, :, None\\])"
      ]
    },
    {
      "cell_type": "code",
      "execution_count": null,
      "metadata": {
        "collapsed": true,
        "id": "HeHYTybrjRRf",
        "colab": {
          "base_uri": "https://localhost:8080/"
        },
        "outputId": "3bf9d215-f836-4b92-99d6-aa9f3df0e4c8"
      },
      "outputs": [
        {
          "output_type": "stream",
          "name": "stdout",
          "text": [
            "[[[2. 2. 2.]\n",
            "  [2. 2. 2.]\n",
            "  [2. 2. 2.]\n",
            "  [2. 2. 2.]\n",
            "  [2. 2. 2.]]\n",
            "\n",
            " [[2. 2. 2.]\n",
            "  [2. 2. 2.]\n",
            "  [2. 2. 2.]\n",
            "  [2. 2. 2.]\n",
            "  [2. 2. 2.]]\n",
            "\n",
            " [[2. 2. 2.]\n",
            "  [2. 2. 2.]\n",
            "  [2. 2. 2.]\n",
            "  [2. 2. 2.]\n",
            "  [2. 2. 2.]]\n",
            "\n",
            " [[2. 2. 2.]\n",
            "  [2. 2. 2.]\n",
            "  [2. 2. 2.]\n",
            "  [2. 2. 2.]\n",
            "  [2. 2. 2.]]\n",
            "\n",
            " [[2. 2. 2.]\n",
            "  [2. 2. 2.]\n",
            "  [2. 2. 2.]\n",
            "  [2. 2. 2.]\n",
            "  [2. 2. 2.]]]\n"
          ]
        }
      ],
      "source": [
        "a = np.ones((5,5,3))\n",
        "b = 2*np.ones((5,5))\n",
        "print(a*b[:,:,None])"
      ]
    },
    {
      "cell_type": "markdown",
      "metadata": {
        "id": "m54XcCN7jRRf"
      },
      "source": [
        "#### 72. How to swap two rows of an array? (★★★) \n",
        "(**hint**: array\\[\\[\\]\\] = array\\[\\[\\]\\])"
      ]
    },
    {
      "cell_type": "code",
      "execution_count": null,
      "metadata": {
        "id": "xY3ATl-2jRRf",
        "colab": {
          "base_uri": "https://localhost:8080/"
        },
        "outputId": "66ac0f77-5e30-4fcf-a469-4141920ff10c"
      },
      "outputs": [
        {
          "output_type": "stream",
          "name": "stdout",
          "text": [
            "[[ 6  7  8  9 10 11]\n",
            " [ 0  1  2  3  4  5]\n",
            " [12 13 14 15 16 17]\n",
            " [18 19 20 21 22 23]\n",
            " [24 25 26 27 28 29]\n",
            " [30 31 32 33 34 35]]\n"
          ]
        }
      ],
      "source": [
        "x = np.arange(36).reshape(6,6)\n",
        "x[[0,1]]=x[[1,0]]\n",
        "print(x)"
      ]
    },
    {
      "cell_type": "markdown",
      "metadata": {
        "id": "onjQnAcujRRf"
      },
      "source": [
        "#### 73. Consider a set of 10 triplets describing 10 triangles (with shared vertices), find the set of unique line segments composing all the  triangles (★★★) \n",
        "(**hint**: repeat, np.roll, np.sort, view, np.unique)"
      ]
    },
    {
      "cell_type": "code",
      "execution_count": null,
      "metadata": {
        "id": "Bg-6xaxSjRRf",
        "colab": {
          "base_uri": "https://localhost:8080/"
        },
        "outputId": "a3b8011e-c887-4237-b29e-8eae0fa7e7fa"
      },
      "outputs": [
        {
          "output_type": "stream",
          "name": "stdout",
          "text": [
            "[( 3, 16) ( 3, 29) ( 3, 42) ( 3, 82) ( 4, 14) ( 4, 75) (14, 16) (14, 67)\n",
            " (14, 75) (16, 26) (16, 67) (16, 72) (16, 82) (18, 25) (18, 26) (25, 26)\n",
            " (26, 72) (29, 42) (41, 50) (41, 61) (42, 55) (42, 88) (44, 52) (44, 83)\n",
            " (50, 61) (50, 84) (50, 90) (52, 83) (55, 88) (84, 90)]\n"
          ]
        }
      ],
      "source": [
        "fac = np.random.randint(0,100,(10,3))\n",
        "x = np.roll(fac.repeat(2,axis=1),-1,axis=1)\n",
        "x = x.reshape(len(x)*3,2)\n",
        "x = np.sort(x,axis=1)\n",
        "v = x.view( dtype=[('p0',x.dtype),('p1',x.dtype)] )\n",
        "v = np.unique(v)\n",
        "print(v)"
      ]
    },
    {
      "cell_type": "markdown",
      "metadata": {
        "id": "3Tit6OlbjRRg"
      },
      "source": [
        "#### 74. Given an array C that is a bincount, how to produce an array A such that np.bincount(A) == C? (★★★) \n",
        "(**hint**: np.repeat)"
      ]
    },
    {
      "cell_type": "code",
      "execution_count": null,
      "metadata": {
        "id": "XCMeRXhCjRRg",
        "colab": {
          "base_uri": "https://localhost:8080/"
        },
        "outputId": "79956a2b-1ac3-4437-9331-fde6a0b2f7a1"
      },
      "outputs": [
        {
          "output_type": "stream",
          "name": "stdout",
          "text": [
            "[1 1 2 3 4 4 6]\n"
          ]
        }
      ],
      "source": [
        "x = np.bincount([1,1,2,3,4,4,6])\n",
        "y = np.repeat(np.arange(len(x)), x)\n",
        "print(y)"
      ]
    },
    {
      "cell_type": "markdown",
      "metadata": {
        "id": "XEy7XabpjRRg"
      },
      "source": [
        "#### 75. How to compute averages using a sliding window over an array? (★★★) \n",
        "(**hint**: np.cumsum)"
      ]
    },
    {
      "cell_type": "code",
      "execution_count": null,
      "metadata": {
        "id": "RKCPGaTvjRRg",
        "colab": {
          "base_uri": "https://localhost:8080/"
        },
        "outputId": "30de7be6-755e-4423-da10-db3d808b36f8"
      },
      "outputs": [
        {
          "output_type": "stream",
          "name": "stdout",
          "text": [
            "[ 1.  2.  3.  4.  5.  6.  7.  8.  9. 10. 11. 12. 13. 14. 15. 16. 17. 18.]\n"
          ]
        }
      ],
      "source": [
        "def mavg(a, n=3) :\n",
        "    t = np.cumsum(a, dtype=float)\n",
        "    t[n:] = t[n:] - t[:-n]\n",
        "    return t[n - 1:] / n\n",
        "x = np.arange(20)\n",
        "print(mavg(x, n=3))"
      ]
    },
    {
      "cell_type": "markdown",
      "metadata": {
        "id": "kDqDUMUAjRRg"
      },
      "source": [
        "#### 76. Consider a one-dimensional array Z, build a two-dimensional array whose first row is (Z\\[0\\],Z\\[1\\],Z\\[2\\]) and each subsequent row is  shifted by 1 (last row should be (Z\\[-3\\],Z\\[-2\\],Z\\[-1\\]) (★★★) \n",
        "(**hint**: from numpy.lib import stride_tricks)"
      ]
    },
    {
      "cell_type": "code",
      "execution_count": null,
      "metadata": {
        "id": "4DlxXlpxjRRg",
        "colab": {
          "base_uri": "https://localhost:8080/"
        },
        "outputId": "155340b9-edbf-4a4a-d9a7-71b87673e421"
      },
      "outputs": [
        {
          "output_type": "stream",
          "name": "stdout",
          "text": [
            "[[0 1 2]\n",
            " [1 2 3]\n",
            " [2 3 4]\n",
            " [3 4 5]\n",
            " [4 5 6]\n",
            " [5 6 7]\n",
            " [6 7 8]\n",
            " [7 8 9]]\n"
          ]
        }
      ],
      "source": [
        "from numpy.lib import stride_tricks\n",
        "\n",
        "def roll(a, window):\n",
        "    shape = (a.size - window + 1, window)\n",
        "    strides = (a.itemsize, a.itemsize)\n",
        "    return stride_tricks.as_strided(a, shape=shape, strides=strides)\n",
        "z = roll(np.arange(10), 3)\n",
        "print(z)"
      ]
    },
    {
      "cell_type": "markdown",
      "metadata": {
        "id": "Pwygo9xmjRRh"
      },
      "source": [
        "#### 77. How to negate a boolean, or to change the sign of a float inplace? (★★★) \n",
        "(**hint**: np.logical_not, np.negative)"
      ]
    },
    {
      "cell_type": "code",
      "execution_count": null,
      "metadata": {
        "id": "ONBXJ1tAjRRh",
        "colab": {
          "base_uri": "https://localhost:8080/"
        },
        "outputId": "e898d314-30d3-44de-b937-2a21138377e5"
      },
      "outputs": [
        {
          "output_type": "execute_result",
          "data": {
            "text/plain": [
              "array([ 0.70440493,  0.86019608,  0.14654842, -0.92048976, -0.41121736,\n",
              "        0.11097707, -0.39975906,  0.71903292, -0.89595133,  0.81394627,\n",
              "       -0.07696222,  0.82169447, -0.95086524,  0.89360313,  0.39931968,\n",
              "        0.56642177,  0.95920838, -0.38582098, -0.83451318, -0.59576687,\n",
              "        0.86580121,  0.98215402, -0.74054863,  0.45214656, -0.10756251,\n",
              "        0.43642602,  0.29390027,  0.21088407, -0.22580266,  0.43761882,\n",
              "       -0.13155193,  0.8309155 ,  0.14512725,  0.1654956 , -0.82203718,\n",
              "        0.21496514, -0.7183888 , -0.95897289, -0.48817514, -0.33349263,\n",
              "        0.09455516,  0.72889388,  0.08140063, -0.2504498 ,  0.50983261,\n",
              "       -0.04773437, -0.63934726, -0.97838434, -0.36275575, -0.3412653 ])"
            ]
          },
          "metadata": {},
          "execution_count": 77
        }
      ],
      "source": [
        "x = np.random.randint(0,2,50)\n",
        "np.logical_not(x, out = x)\n",
        "x = np.random.uniform(-1.0,1.0,50)\n",
        "np.negative(x,out=x)"
      ]
    },
    {
      "cell_type": "markdown",
      "metadata": {
        "id": "S8Cd04BCjRRh"
      },
      "source": [
        "#### 78. Consider 2 sets of points P0,P1 describing lines (2d) and a point p, how to compute distance from p to each line i  (P0\\[i\\],P1\\[i\\])? (★★★)"
      ]
    },
    {
      "cell_type": "code",
      "execution_count": null,
      "metadata": {
        "id": "OtOmRuWvjRRh",
        "colab": {
          "base_uri": "https://localhost:8080/"
        },
        "outputId": "6cd2e866-cac4-4f8d-ac31-a38dc9dde77d"
      },
      "outputs": [
        {
          "output_type": "stream",
          "name": "stdout",
          "text": [
            "[15.23047032  7.9370893   1.04158479  4.06216436  0.99697994  6.9418704\n",
            " 13.88482616  3.08758519  3.20220564  2.32656212]\n"
          ]
        }
      ],
      "source": [
        "def distance(P0, P1, p):\n",
        "    T = P1 - P0\n",
        "    L = (T**2).sum(axis=1)\n",
        "    U = -((P0[:,0]-p[...,0])*T[:,0] + (P0[:,1]-p[...,1])*T[:,1]) / L\n",
        "    U = U.reshape(len(U),1)\n",
        "    D = P0 + U*T - p\n",
        "    return np.sqrt((D**2).sum(axis=1))\n",
        "\n",
        "P0 = np.random.uniform(-10,10,(10,2))\n",
        "P1 = np.random.uniform(-10,10,(10,2))\n",
        "p  = np.random.uniform(-10,10,( 1,2))\n",
        "print(distance(P0, P1, p))"
      ]
    },
    {
      "cell_type": "markdown",
      "metadata": {
        "id": "CdM3ADbwjRRh"
      },
      "source": [
        "#### 79. Consider 2 sets of points P0,P1 describing lines (2d) and a set of points P, how to compute distance from each point j (P\\[j\\]) to each line i (P0\\[i\\],P1\\[i\\])? (★★★)"
      ]
    },
    {
      "cell_type": "code",
      "execution_count": null,
      "metadata": {
        "id": "9BXevdSWjRRh",
        "colab": {
          "base_uri": "https://localhost:8080/"
        },
        "outputId": "6b1ac1b0-27f6-409a-9e4c-c098d2b0a791"
      },
      "outputs": [
        {
          "output_type": "stream",
          "name": "stdout",
          "text": [
            "[[ 9.66088009  4.19615177  3.07654035  1.64323782  5.35491658  2.89035972\n",
            "   8.51781253  7.71066682  2.38187863  3.01545977]\n",
            " [ 1.66215894  5.8352075  10.62348981 12.50108869 10.94537595  7.52029333\n",
            "   2.90847631 14.0348146  13.68596311 11.62106829]\n",
            " [11.94330131  7.17681824  0.20789488  0.25249634  5.51986028  5.84786419\n",
            "  11.0245804   7.65080574  0.1224114   2.17176059]\n",
            " [12.15441247  1.59738884 12.6626871   3.1931642   6.6605618   1.98803486\n",
            "   9.33495309  3.82430461  0.26720639  6.31749819]\n",
            " [15.41824318  5.45111052  4.64442672  5.05267952  2.67001877  4.73780731\n",
            "  13.51116411  0.37877476  3.44260286  4.93441895]\n",
            " [10.06934683  6.26451932  0.40571869  1.77299603  7.45292748  4.79507366\n",
            "   9.29232996  9.64529254  2.00815615  4.29108533]\n",
            " [14.7486222   9.44539405  1.35726553  3.00878928  3.84274307  8.23293321\n",
            "  13.80946595  5.80930352  2.68253916  0.16173975]\n",
            " [ 7.10412712  2.0648794   4.59256017  4.13584083  6.79758131  0.65953631\n",
            "   5.96615812  9.3082624   4.93702256  5.08298846]\n",
            " [ 2.6013897   0.81345988  6.03247739  8.79299487 10.51753818  2.48506044\n",
            "   1.6581977  13.23085991  9.45439221  9.53746598]\n",
            " [13.05162212  0.63869921 10.03896182  3.61312632  5.1613324   0.12833755\n",
            "  10.54634776  2.49884556  1.13414823  5.65986953]]\n"
          ]
        }
      ],
      "source": [
        "p0 = np.random.uniform(-10,10,(10,2))\n",
        "p1 = np.random.uniform(-10,10,(10,2))\n",
        "p = np.random.uniform(-10,10,(10,2))\n",
        "print(np.array([distance(P0,P1,p_i) for p_i in p]))"
      ]
    },
    {
      "cell_type": "markdown",
      "metadata": {
        "id": "S5l61P6ZjRRi"
      },
      "source": [
        "#### 80. Consider an arbitrary array, write a function that extract a subpart with a fixed shape and centered on a given element (pad with a `fill` value when necessary) (★★★) \n",
        "(**hint**: minimum, maximum)"
      ]
    },
    {
      "cell_type": "code",
      "execution_count": null,
      "metadata": {
        "id": "Ify9ZT8DjRRi",
        "colab": {
          "base_uri": "https://localhost:8080/"
        },
        "outputId": "6ac9e494-3b01-4816-c2ea-9fc68e713f81"
      },
      "outputs": [
        {
          "output_type": "stream",
          "name": "stdout",
          "text": [
            "[[2 7 3 4 2 3 1 8 3 3]\n",
            " [8 9 0 0 2 4 7 9 3 7]\n",
            " [0 7 8 0 6 3 2 2 8 7]\n",
            " [4 1 6 7 2 9 5 3 5 1]\n",
            " [1 4 0 7 7 4 3 7 9 8]\n",
            " [9 6 2 9 5 7 0 7 6 5]\n",
            " [0 3 3 7 9 6 4 1 9 9]\n",
            " [1 2 8 2 8 0 3 6 9 2]\n",
            " [1 3 7 4 2 4 8 5 0 5]\n",
            " [9 3 9 4 5 3 0 0 7 2]]\n",
            "[[0 0 0 0 0]\n",
            " [0 2 7 3 4]\n",
            " [0 8 9 0 0]\n",
            " [0 0 7 8 0]\n",
            " [0 4 1 6 7]]\n"
          ]
        },
        {
          "output_type": "stream",
          "name": "stderr",
          "text": [
            "/usr/local/lib/python3.7/dist-packages/ipykernel_launcher.py:23: FutureWarning: Using a non-tuple sequence for multidimensional indexing is deprecated; use `arr[tuple(seq)]` instead of `arr[seq]`. In the future this will be interpreted as an array index, `arr[np.array(seq)]`, which will result either in an error or a different result.\n"
          ]
        }
      ],
      "source": [
        "Z = np.random.randint(0,10,(10,10))\n",
        "shape = (5,5)\n",
        "fill  = 0\n",
        "position = (1,1)\n",
        "\n",
        "R = np.ones(shape, dtype=Z.dtype)*fill\n",
        "P  = np.array(list(position)).astype(int)\n",
        "Rs = np.array(list(R.shape)).astype(int)\n",
        "Zs = np.array(list(Z.shape)).astype(int)\n",
        "\n",
        "R_start = np.zeros((len(shape),)).astype(int)\n",
        "R_stop  = np.array(list(shape)).astype(int)\n",
        "Z_start = (P-Rs//2)\n",
        "Z_stop  = (P+Rs//2)+Rs%2\n",
        "\n",
        "R_start = (R_start - np.minimum(Z_start,0)).tolist()\n",
        "Z_start = (np.maximum(Z_start,0)).tolist()\n",
        "R_stop = np.maximum(R_start, (R_stop - np.maximum(Z_stop-Zs,0))).tolist()\n",
        "Z_stop = (np.minimum(Z_stop,Zs)).tolist()\n",
        "\n",
        "r = [slice(start,stop) for start,stop in zip(R_start,R_stop)]\n",
        "z = [slice(start,stop) for start,stop in zip(Z_start,Z_stop)]\n",
        "R[r] = Z[z]\n",
        "print(Z)\n",
        "print(R)"
      ]
    },
    {
      "cell_type": "markdown",
      "metadata": {
        "id": "DDTJ5X76jRRi"
      },
      "source": [
        "#### 81. Consider an array Z = \\[1,2,3,4,5,6,7,8,9,10,11,12,13,14\\], how to generate an array R = \\[\\[1,2,3,4\\], \\[2,3,4,5\\], \\[3,4,5,6\\], ..., \\[11,12,13,14\\]\\]? (★★★) \n",
        "(**hint**: stride\\_tricks.as\\_strided)"
      ]
    },
    {
      "cell_type": "code",
      "execution_count": null,
      "metadata": {
        "id": "uh5FVqEEjRRi",
        "colab": {
          "base_uri": "https://localhost:8080/"
        },
        "outputId": "2ae3d88e-e3ab-45ec-f917-b60bd5dfac60"
      },
      "outputs": [
        {
          "output_type": "stream",
          "name": "stdout",
          "text": [
            "[[ 1  2  3  4]\n",
            " [ 2  3  4  5]\n",
            " [ 3  4  5  6]\n",
            " [ 4  5  6  7]\n",
            " [ 5  6  7  8]\n",
            " [ 6  7  8  9]\n",
            " [ 7  8  9 10]\n",
            " [ 8  9 10 11]\n",
            " [ 9 10 11 12]\n",
            " [10 11 12 13]\n",
            " [11 12 13 14]]\n"
          ]
        }
      ],
      "source": [
        "x = np.arange(1,15,dtype=np.uint32)\n",
        "z = stride_tricks.as_strided(x,(11,4),(4,4))\n",
        "print(z)"
      ]
    },
    {
      "cell_type": "markdown",
      "metadata": {
        "id": "Sh-LvOTyjRRi"
      },
      "source": [
        "#### 82. Compute a matrix rank (★★★) \n",
        "(**hint**: np.linalg.svd) (suggestion: np.linalg.svd)"
      ]
    },
    {
      "cell_type": "code",
      "execution_count": null,
      "metadata": {
        "id": "eizG9U2vjRRi",
        "colab": {
          "base_uri": "https://localhost:8080/"
        },
        "outputId": "5f4cefc4-f2ac-4595-aecf-5dab1794ed2f"
      },
      "outputs": [
        {
          "output_type": "stream",
          "name": "stdout",
          "text": [
            "10\n"
          ]
        }
      ],
      "source": [
        "x = np.random.uniform(0,1,(10,10))\n",
        "u,s,v = np.linalg.svd(x)\n",
        "rank = np.sum(s>1e-10)\n",
        "print(rank)"
      ]
    },
    {
      "cell_type": "markdown",
      "metadata": {
        "id": "taj4a1ZRjRRi"
      },
      "source": [
        "#### 83. How to find the most frequent value in an array? \n",
        "(**hint**: np.bincount, argmax)"
      ]
    },
    {
      "cell_type": "code",
      "execution_count": null,
      "metadata": {
        "id": "MeoN9Lo9jRRj",
        "colab": {
          "base_uri": "https://localhost:8080/"
        },
        "outputId": "cfca4003-d585-475a-ddc9-388bd5ec1a7e"
      },
      "outputs": [
        {
          "output_type": "stream",
          "name": "stdout",
          "text": [
            "0\n"
          ]
        }
      ],
      "source": [
        "a = np.random.randint(0,10,100)\n",
        "print(np.bincount(a).argmax())"
      ]
    },
    {
      "cell_type": "markdown",
      "metadata": {
        "id": "IzAnBb3EjRRj"
      },
      "source": [
        "#### 84. Extract all the contiguous 3x3 blocks from a random 10x10 matrix (★★★) \n",
        "(**hint**: stride\\_tricks.as\\_strided)"
      ]
    },
    {
      "cell_type": "code",
      "execution_count": null,
      "metadata": {
        "id": "BxX3adXGjRRj",
        "colab": {
          "base_uri": "https://localhost:8080/"
        },
        "outputId": "e6fdd7d4-f9ed-4804-aa68-3a2dc4446681"
      },
      "outputs": [
        {
          "output_type": "stream",
          "name": "stdout",
          "text": [
            "[[[[4 0 2]\n",
            "   [0 2 3]\n",
            "   [1 4 1]]\n",
            "\n",
            "  [[0 2 0]\n",
            "   [2 3 4]\n",
            "   [4 1 0]]\n",
            "\n",
            "  [[2 0 1]\n",
            "   [3 4 3]\n",
            "   [1 0 2]]\n",
            "\n",
            "  [[0 1 1]\n",
            "   [4 3 3]\n",
            "   [0 2 4]]\n",
            "\n",
            "  [[1 1 1]\n",
            "   [3 3 1]\n",
            "   [2 4 3]]\n",
            "\n",
            "  [[1 1 1]\n",
            "   [3 1 4]\n",
            "   [4 3 1]]\n",
            "\n",
            "  [[1 1 3]\n",
            "   [1 4 3]\n",
            "   [3 1 1]]\n",
            "\n",
            "  [[1 3 0]\n",
            "   [4 3 2]\n",
            "   [1 1 1]]]\n",
            "\n",
            "\n",
            " [[[0 2 3]\n",
            "   [1 4 1]\n",
            "   [3 4 0]]\n",
            "\n",
            "  [[2 3 4]\n",
            "   [4 1 0]\n",
            "   [4 0 1]]\n",
            "\n",
            "  [[3 4 3]\n",
            "   [1 0 2]\n",
            "   [0 1 1]]\n",
            "\n",
            "  [[4 3 3]\n",
            "   [0 2 4]\n",
            "   [1 1 3]]\n",
            "\n",
            "  [[3 3 1]\n",
            "   [2 4 3]\n",
            "   [1 3 3]]\n",
            "\n",
            "  [[3 1 4]\n",
            "   [4 3 1]\n",
            "   [3 3 4]]\n",
            "\n",
            "  [[1 4 3]\n",
            "   [3 1 1]\n",
            "   [3 4 1]]\n",
            "\n",
            "  [[4 3 2]\n",
            "   [1 1 1]\n",
            "   [4 1 4]]]\n",
            "\n",
            "\n",
            " [[[1 4 1]\n",
            "   [3 4 0]\n",
            "   [4 4 2]]\n",
            "\n",
            "  [[4 1 0]\n",
            "   [4 0 1]\n",
            "   [4 2 2]]\n",
            "\n",
            "  [[1 0 2]\n",
            "   [0 1 1]\n",
            "   [2 2 2]]\n",
            "\n",
            "  [[0 2 4]\n",
            "   [1 1 3]\n",
            "   [2 2 2]]\n",
            "\n",
            "  [[2 4 3]\n",
            "   [1 3 3]\n",
            "   [2 2 4]]\n",
            "\n",
            "  [[4 3 1]\n",
            "   [3 3 4]\n",
            "   [2 4 1]]\n",
            "\n",
            "  [[3 1 1]\n",
            "   [3 4 1]\n",
            "   [4 1 4]]\n",
            "\n",
            "  [[1 1 1]\n",
            "   [4 1 4]\n",
            "   [1 4 3]]]\n",
            "\n",
            "\n",
            " [[[3 4 0]\n",
            "   [4 4 2]\n",
            "   [0 4 2]]\n",
            "\n",
            "  [[4 0 1]\n",
            "   [4 2 2]\n",
            "   [4 2 4]]\n",
            "\n",
            "  [[0 1 1]\n",
            "   [2 2 2]\n",
            "   [2 4 2]]\n",
            "\n",
            "  [[1 1 3]\n",
            "   [2 2 2]\n",
            "   [4 2 3]]\n",
            "\n",
            "  [[1 3 3]\n",
            "   [2 2 4]\n",
            "   [2 3 3]]\n",
            "\n",
            "  [[3 3 4]\n",
            "   [2 4 1]\n",
            "   [3 3 0]]\n",
            "\n",
            "  [[3 4 1]\n",
            "   [4 1 4]\n",
            "   [3 0 1]]\n",
            "\n",
            "  [[4 1 4]\n",
            "   [1 4 3]\n",
            "   [0 1 1]]]\n",
            "\n",
            "\n",
            " [[[4 4 2]\n",
            "   [0 4 2]\n",
            "   [3 3 0]]\n",
            "\n",
            "  [[4 2 2]\n",
            "   [4 2 4]\n",
            "   [3 0 0]]\n",
            "\n",
            "  [[2 2 2]\n",
            "   [2 4 2]\n",
            "   [0 0 0]]\n",
            "\n",
            "  [[2 2 2]\n",
            "   [4 2 3]\n",
            "   [0 0 3]]\n",
            "\n",
            "  [[2 2 4]\n",
            "   [2 3 3]\n",
            "   [0 3 0]]\n",
            "\n",
            "  [[2 4 1]\n",
            "   [3 3 0]\n",
            "   [3 0 2]]\n",
            "\n",
            "  [[4 1 4]\n",
            "   [3 0 1]\n",
            "   [0 2 3]]\n",
            "\n",
            "  [[1 4 3]\n",
            "   [0 1 1]\n",
            "   [2 3 3]]]\n",
            "\n",
            "\n",
            " [[[0 4 2]\n",
            "   [3 3 0]\n",
            "   [4 4 4]]\n",
            "\n",
            "  [[4 2 4]\n",
            "   [3 0 0]\n",
            "   [4 4 4]]\n",
            "\n",
            "  [[2 4 2]\n",
            "   [0 0 0]\n",
            "   [4 4 3]]\n",
            "\n",
            "  [[4 2 3]\n",
            "   [0 0 3]\n",
            "   [4 3 4]]\n",
            "\n",
            "  [[2 3 3]\n",
            "   [0 3 0]\n",
            "   [3 4 0]]\n",
            "\n",
            "  [[3 3 0]\n",
            "   [3 0 2]\n",
            "   [4 0 4]]\n",
            "\n",
            "  [[3 0 1]\n",
            "   [0 2 3]\n",
            "   [0 4 3]]\n",
            "\n",
            "  [[0 1 1]\n",
            "   [2 3 3]\n",
            "   [4 3 4]]]\n",
            "\n",
            "\n",
            " [[[3 3 0]\n",
            "   [4 4 4]\n",
            "   [2 2 3]]\n",
            "\n",
            "  [[3 0 0]\n",
            "   [4 4 4]\n",
            "   [2 3 2]]\n",
            "\n",
            "  [[0 0 0]\n",
            "   [4 4 3]\n",
            "   [3 2 1]]\n",
            "\n",
            "  [[0 0 3]\n",
            "   [4 3 4]\n",
            "   [2 1 0]]\n",
            "\n",
            "  [[0 3 0]\n",
            "   [3 4 0]\n",
            "   [1 0 3]]\n",
            "\n",
            "  [[3 0 2]\n",
            "   [4 0 4]\n",
            "   [0 3 4]]\n",
            "\n",
            "  [[0 2 3]\n",
            "   [0 4 3]\n",
            "   [3 4 1]]\n",
            "\n",
            "  [[2 3 3]\n",
            "   [4 3 4]\n",
            "   [4 1 1]]]\n",
            "\n",
            "\n",
            " [[[4 4 4]\n",
            "   [2 2 3]\n",
            "   [1 2 1]]\n",
            "\n",
            "  [[4 4 4]\n",
            "   [2 3 2]\n",
            "   [2 1 3]]\n",
            "\n",
            "  [[4 4 3]\n",
            "   [3 2 1]\n",
            "   [1 3 2]]\n",
            "\n",
            "  [[4 3 4]\n",
            "   [2 1 0]\n",
            "   [3 2 1]]\n",
            "\n",
            "  [[3 4 0]\n",
            "   [1 0 3]\n",
            "   [2 1 4]]\n",
            "\n",
            "  [[4 0 4]\n",
            "   [0 3 4]\n",
            "   [1 4 4]]\n",
            "\n",
            "  [[0 4 3]\n",
            "   [3 4 1]\n",
            "   [4 4 3]]\n",
            "\n",
            "  [[4 3 4]\n",
            "   [4 1 1]\n",
            "   [4 3 3]]]]\n"
          ]
        }
      ],
      "source": [
        "x = np.random.randint(0,5,(10,10))\n",
        "n = 3\n",
        "i = 1 + (x.shape[0]-3)\n",
        "j = 1 + (x.shape[1]-3)\n",
        "a = stride_tricks.as_strided(x, shape=(i, j, n, n), strides=x.strides + x.strides)\n",
        "print(a)"
      ]
    },
    {
      "cell_type": "markdown",
      "metadata": {
        "id": "XKVQq2O8jRRj"
      },
      "source": [
        "#### 85. Create a 2D array subclass such that Z\\[i,j\\] == Z\\[j,i\\] (★★★) \n",
        "(**hint**: class method)"
      ]
    },
    {
      "cell_type": "code",
      "execution_count": null,
      "metadata": {
        "id": "QN9M6rEwjRRj",
        "colab": {
          "base_uri": "https://localhost:8080/"
        },
        "outputId": "36927ba2-02bf-4236-87f2-07180707214e"
      },
      "outputs": [
        {
          "output_type": "stream",
          "name": "stdout",
          "text": [
            "[[ 6 10 10  7 14]\n",
            " [10  3  8  2  5]\n",
            " [10  8  8 42 17]\n",
            " [ 7  2 42  8 14]\n",
            " [14  5 17 14  7]]\n"
          ]
        }
      ],
      "source": [
        "class sym(np.ndarray):\n",
        "    def __setitem__(self, index, value):\n",
        "        i,j = index\n",
        "        super(sym, self).__setitem__((i,j), value)\n",
        "        super(sym, self).__setitem__((j,i), value)\n",
        "\n",
        "def symetric(x):\n",
        "    return np.asarray(x + x.T - np.diag(x.diagonal())).view(sym)\n",
        "\n",
        "c = symetric(np.random.randint(0,10,(5,5)))\n",
        "c[2,3] = 42\n",
        "print(c)"
      ]
    },
    {
      "cell_type": "markdown",
      "metadata": {
        "id": "AaHIO3_ojRRj"
      },
      "source": [
        "#### 86. Consider a set of p matrices wich shape (n,n) and a set of p vectors with shape (n,1). How to compute the sum of of the p matrix products at once? (result has shape (n,1)) (★★★) \n",
        "(**hint**: np.tensordot)"
      ]
    },
    {
      "cell_type": "code",
      "execution_count": null,
      "metadata": {
        "id": "8HgdYentjRRk",
        "colab": {
          "base_uri": "https://localhost:8080/"
        },
        "outputId": "32ff78a8-ed38-428b-fc6b-09cf661259d3"
      },
      "outputs": [
        {
          "output_type": "stream",
          "name": "stdout",
          "text": [
            "[[200.]\n",
            " [200.]\n",
            " [200.]\n",
            " [200.]\n",
            " [200.]\n",
            " [200.]\n",
            " [200.]\n",
            " [200.]\n",
            " [200.]\n",
            " [200.]\n",
            " [200.]\n",
            " [200.]\n",
            " [200.]\n",
            " [200.]\n",
            " [200.]\n",
            " [200.]\n",
            " [200.]\n",
            " [200.]\n",
            " [200.]\n",
            " [200.]]\n"
          ]
        }
      ],
      "source": [
        "p,n = 10,20\n",
        "x = np.ones((p,n,n))\n",
        "y = np.ones((p,n,1))\n",
        "l = np.tensordot(x,y, axes = [[0,2],[0,1]])\n",
        "print(l)"
      ]
    },
    {
      "cell_type": "markdown",
      "metadata": {
        "id": "7aUp7aKhjRRk"
      },
      "source": [
        "#### 87. Consider a 16x16 array, how to get the block-sum (block size is 4x4)? (★★★) \n",
        "(**hint**: np.add.reduceat)"
      ]
    },
    {
      "cell_type": "code",
      "execution_count": null,
      "metadata": {
        "id": "hJdkNYwvjRRk",
        "colab": {
          "base_uri": "https://localhost:8080/"
        },
        "outputId": "bda7737a-a130-491f-823b-56f9e24d7f69"
      },
      "outputs": [
        {
          "output_type": "stream",
          "name": "stdout",
          "text": [
            "[[16. 16. 16. 16.]\n",
            " [16. 16. 16. 16.]\n",
            " [16. 16. 16. 16.]\n",
            " [16. 16. 16. 16.]]\n"
          ]
        }
      ],
      "source": [
        "z = np.ones((16,16))\n",
        "k = 4\n",
        "x = np.add.reduceat(np.add.reduceat(z, np.arange(0, z.shape[0], k), axis=0),\n",
        "                                       np.arange(0, z.shape[1], k), axis=1)\n",
        "print(x)"
      ]
    },
    {
      "cell_type": "markdown",
      "metadata": {
        "id": "kyzwjfWKjRRk"
      },
      "source": [
        "#### 88. How to implement the Game of Life using numpy arrays? (★★★)"
      ]
    },
    {
      "cell_type": "code",
      "execution_count": null,
      "metadata": {
        "id": "BK0vBOenjRRk",
        "colab": {
          "base_uri": "https://localhost:8080/"
        },
        "outputId": "2d66ef0a-94fa-4b98-9467-6cfaaea903e6"
      },
      "outputs": [
        {
          "output_type": "stream",
          "name": "stdout",
          "text": [
            "[[0 0 0 ... 0 0 0]\n",
            " [0 0 0 ... 0 0 0]\n",
            " [0 0 0 ... 0 0 0]\n",
            " ...\n",
            " [0 0 0 ... 0 0 0]\n",
            " [0 0 0 ... 0 0 0]\n",
            " [0 0 0 ... 0 0 0]]\n"
          ]
        }
      ],
      "source": [
        "def iterate(Z):\n",
        "    \n",
        "    N = (Z[0:-2,0:-2] + Z[0:-2,1:-1] + Z[0:-2,2:] +\n",
        "         Z[1:-1,0:-2]                + Z[1:-1,2:] +\n",
        "         Z[2:  ,0:-2] + Z[2:  ,1:-1] + Z[2:  ,2:])\n",
        "    birth = (N==3) & (Z[1:-1,1:-1]==0)\n",
        "    survive = ((N==2) | (N==3)) & (Z[1:-1,1:-1]==1)\n",
        "    Z[...] = 0\n",
        "    Z[1:-1,1:-1][birth | survive] = 1\n",
        "    return Z\n",
        "\n",
        "Z = np.random.randint(0,2,(40,40))\n",
        "for i in range(100): Z = iterate(Z)\n",
        "print(Z)"
      ]
    },
    {
      "cell_type": "markdown",
      "metadata": {
        "id": "kSixS8YXjRRl"
      },
      "source": [
        "#### 89. How to get the n largest values of an array (★★★) \n",
        "(**hint**: np.argsort | np.argpartition)"
      ]
    },
    {
      "cell_type": "code",
      "execution_count": null,
      "metadata": {
        "id": "MOIywPsMjRRl",
        "colab": {
          "base_uri": "https://localhost:8080/"
        },
        "outputId": "e2dd41cf-55e0-44e4-93d7-d4a57f1d5200"
      },
      "outputs": [
        {
          "output_type": "stream",
          "name": "stdout",
          "text": [
            "[9995 9996 9997 9998 9999]\n"
          ]
        }
      ],
      "source": [
        "x = np.arange(10000)\n",
        "np.random.shuffle(x)\n",
        "n = 5\n",
        "print(x[np.argsort(x)[-n:]])"
      ]
    },
    {
      "cell_type": "markdown",
      "metadata": {
        "id": "vqIEoSIDjRRl"
      },
      "source": [
        "#### 90. Given an arbitrary number of vectors, build the cartesian product (every combinations of every item) (★★★) \n",
        "(**hint**: np.indices)"
      ]
    },
    {
      "cell_type": "code",
      "execution_count": null,
      "metadata": {
        "scrolled": true,
        "id": "NcEySLINjRRl",
        "colab": {
          "base_uri": "https://localhost:8080/"
        },
        "outputId": "688b05ab-6ef0-43e5-c2d5-301ba00ecf44"
      },
      "outputs": [
        {
          "output_type": "stream",
          "name": "stdout",
          "text": [
            "[[1 4 6]\n",
            " [1 4 7]\n",
            " [1 5 6]\n",
            " [1 5 7]\n",
            " [2 4 6]\n",
            " [2 4 7]\n",
            " [2 5 6]\n",
            " [2 5 7]\n",
            " [3 4 6]\n",
            " [3 4 7]\n",
            " [3 5 6]\n",
            " [3 5 7]]\n"
          ]
        }
      ],
      "source": [
        "def cart(arrays):\n",
        "    arrays = [np.asarray(a) for a in arrays]\n",
        "    shape = (len(x) for x in arrays)\n",
        "\n",
        "    cx = np.indices(shape, dtype=int)\n",
        "    cx = cx.reshape(len(arrays), -1).T\n",
        "\n",
        "    for n, arr in enumerate(arrays):\n",
        "        cx[:, n] = arrays[n][cx[:, n]]\n",
        "\n",
        "    return cx\n",
        "\n",
        "print (cart(([1, 2, 3], [4, 5], [6, 7])))"
      ]
    },
    {
      "cell_type": "markdown",
      "metadata": {
        "id": "jYueaBzvjRRm"
      },
      "source": [
        "#### 91. How to create a record array from a regular array? (★★★) \n",
        "(**hint**: np.core.records.fromarrays)"
      ]
    },
    {
      "cell_type": "code",
      "execution_count": null,
      "metadata": {
        "id": "qH-TBIZtjRRm",
        "colab": {
          "base_uri": "https://localhost:8080/"
        },
        "outputId": "7a09ed63-0ad2-411c-eb86-e3fd7f1f7d9e"
      },
      "outputs": [
        {
          "output_type": "stream",
          "name": "stdout",
          "text": [
            "[(b'hello', 1.6, 2) (b'J', 4.8, 6)]\n"
          ]
        }
      ],
      "source": [
        "x = np.array([(\"hello\",1.6,2),\n",
        "              (\"J\",4.8,6)])\n",
        "c = np.core.records.fromarrays(x.T,\n",
        "                               names = 'col1,col2,col3',\n",
        "                               formats = 'S8, f8, i8')\n",
        "print(c)"
      ]
    },
    {
      "cell_type": "markdown",
      "metadata": {
        "id": "R1X18FhdjRRm"
      },
      "source": [
        "#### 92. Consider a large vector Z, compute Z to the power of 3 using 3 different methods (★★★) \n",
        "(**hint**: np.power, \\*, np.einsum)"
      ]
    },
    {
      "cell_type": "code",
      "execution_count": null,
      "metadata": {
        "id": "PvSH4oPOjRRm",
        "colab": {
          "base_uri": "https://localhost:8080/",
          "height": 518
        },
        "outputId": "345ce2c4-9c9b-4106-f055-6eee7058c22b"
      },
      "outputs": [
        {
          "output_type": "stream",
          "name": "stdout",
          "text": [
            "The slowest run took 24.53 times longer than the fastest. This could mean that an intermediate result is being cached.\n",
            "1000000 loops, best of 5: 1.27 µs per loop\n",
            "The slowest run took 13.17 times longer than the fastest. This could mean that an intermediate result is being cached.\n",
            "10000000 loops, best of 5: 133 ns per loop\n"
          ]
        },
        {
          "output_type": "error",
          "ename": "ValueError",
          "evalue": "ignored",
          "traceback": [
            "\u001b[0;31m---------------------------------------------------------------------------\u001b[0m",
            "\u001b[0;31mValueError\u001b[0m                                Traceback (most recent call last)",
            "\u001b[0;32m<ipython-input-101-1e4fc202399e>\u001b[0m in \u001b[0;36m<module>\u001b[0;34m()\u001b[0m\n\u001b[1;32m      3\u001b[0m \u001b[0mget_ipython\u001b[0m\u001b[0;34m(\u001b[0m\u001b[0;34m)\u001b[0m\u001b[0;34m.\u001b[0m\u001b[0mmagic\u001b[0m\u001b[0;34m(\u001b[0m\u001b[0;34m'timeit np.power(x,3)'\u001b[0m\u001b[0;34m)\u001b[0m\u001b[0;34m\u001b[0m\u001b[0;34m\u001b[0m\u001b[0m\n\u001b[1;32m      4\u001b[0m \u001b[0mget_ipython\u001b[0m\u001b[0;34m(\u001b[0m\u001b[0;34m)\u001b[0m\u001b[0;34m.\u001b[0m\u001b[0mmagic\u001b[0m\u001b[0;34m(\u001b[0m\u001b[0;34m'timeit x*x*x'\u001b[0m\u001b[0;34m)\u001b[0m\u001b[0;34m\u001b[0m\u001b[0;34m\u001b[0m\u001b[0m\n\u001b[0;32m----> 5\u001b[0;31m \u001b[0mget_ipython\u001b[0m\u001b[0;34m(\u001b[0m\u001b[0;34m)\u001b[0m\u001b[0;34m.\u001b[0m\u001b[0mmagic\u001b[0m\u001b[0;34m(\u001b[0m\u001b[0;34m\"timeit np.einsum('i,i,i->ii',x,x,x)\"\u001b[0m\u001b[0;34m)\u001b[0m\u001b[0;34m\u001b[0m\u001b[0;34m\u001b[0m\u001b[0m\n\u001b[0m",
            "\u001b[0;32m/usr/local/lib/python3.7/dist-packages/IPython/core/interactiveshell.py\u001b[0m in \u001b[0;36mmagic\u001b[0;34m(self, arg_s)\u001b[0m\n\u001b[1;32m   2158\u001b[0m         \u001b[0mmagic_name\u001b[0m\u001b[0;34m,\u001b[0m \u001b[0m_\u001b[0m\u001b[0;34m,\u001b[0m \u001b[0mmagic_arg_s\u001b[0m \u001b[0;34m=\u001b[0m \u001b[0marg_s\u001b[0m\u001b[0;34m.\u001b[0m\u001b[0mpartition\u001b[0m\u001b[0;34m(\u001b[0m\u001b[0;34m' '\u001b[0m\u001b[0;34m)\u001b[0m\u001b[0;34m\u001b[0m\u001b[0;34m\u001b[0m\u001b[0m\n\u001b[1;32m   2159\u001b[0m         \u001b[0mmagic_name\u001b[0m \u001b[0;34m=\u001b[0m \u001b[0mmagic_name\u001b[0m\u001b[0;34m.\u001b[0m\u001b[0mlstrip\u001b[0m\u001b[0;34m(\u001b[0m\u001b[0mprefilter\u001b[0m\u001b[0;34m.\u001b[0m\u001b[0mESC_MAGIC\u001b[0m\u001b[0;34m)\u001b[0m\u001b[0;34m\u001b[0m\u001b[0;34m\u001b[0m\u001b[0m\n\u001b[0;32m-> 2160\u001b[0;31m         \u001b[0;32mreturn\u001b[0m \u001b[0mself\u001b[0m\u001b[0;34m.\u001b[0m\u001b[0mrun_line_magic\u001b[0m\u001b[0;34m(\u001b[0m\u001b[0mmagic_name\u001b[0m\u001b[0;34m,\u001b[0m \u001b[0mmagic_arg_s\u001b[0m\u001b[0;34m)\u001b[0m\u001b[0;34m\u001b[0m\u001b[0;34m\u001b[0m\u001b[0m\n\u001b[0m\u001b[1;32m   2161\u001b[0m \u001b[0;34m\u001b[0m\u001b[0m\n\u001b[1;32m   2162\u001b[0m     \u001b[0;31m#-------------------------------------------------------------------------\u001b[0m\u001b[0;34m\u001b[0m\u001b[0;34m\u001b[0m\u001b[0;34m\u001b[0m\u001b[0m\n",
            "\u001b[0;32m/usr/local/lib/python3.7/dist-packages/IPython/core/interactiveshell.py\u001b[0m in \u001b[0;36mrun_line_magic\u001b[0;34m(self, magic_name, line)\u001b[0m\n\u001b[1;32m   2079\u001b[0m                 \u001b[0mkwargs\u001b[0m\u001b[0;34m[\u001b[0m\u001b[0;34m'local_ns'\u001b[0m\u001b[0;34m]\u001b[0m \u001b[0;34m=\u001b[0m \u001b[0msys\u001b[0m\u001b[0;34m.\u001b[0m\u001b[0m_getframe\u001b[0m\u001b[0;34m(\u001b[0m\u001b[0mstack_depth\u001b[0m\u001b[0;34m)\u001b[0m\u001b[0;34m.\u001b[0m\u001b[0mf_locals\u001b[0m\u001b[0;34m\u001b[0m\u001b[0;34m\u001b[0m\u001b[0m\n\u001b[1;32m   2080\u001b[0m             \u001b[0;32mwith\u001b[0m \u001b[0mself\u001b[0m\u001b[0;34m.\u001b[0m\u001b[0mbuiltin_trap\u001b[0m\u001b[0;34m:\u001b[0m\u001b[0;34m\u001b[0m\u001b[0;34m\u001b[0m\u001b[0m\n\u001b[0;32m-> 2081\u001b[0;31m                 \u001b[0mresult\u001b[0m \u001b[0;34m=\u001b[0m \u001b[0mfn\u001b[0m\u001b[0;34m(\u001b[0m\u001b[0;34m*\u001b[0m\u001b[0margs\u001b[0m\u001b[0;34m,\u001b[0m\u001b[0;34m**\u001b[0m\u001b[0mkwargs\u001b[0m\u001b[0;34m)\u001b[0m\u001b[0;34m\u001b[0m\u001b[0;34m\u001b[0m\u001b[0m\n\u001b[0m\u001b[1;32m   2082\u001b[0m             \u001b[0;32mreturn\u001b[0m \u001b[0mresult\u001b[0m\u001b[0;34m\u001b[0m\u001b[0;34m\u001b[0m\u001b[0m\n\u001b[1;32m   2083\u001b[0m \u001b[0;34m\u001b[0m\u001b[0m\n",
            "\u001b[0;32m<decorator-gen-52>\u001b[0m in \u001b[0;36mtimeit\u001b[0;34m(self, line, cell)\u001b[0m\n",
            "\u001b[0;32m/usr/local/lib/python3.7/dist-packages/IPython/core/magic.py\u001b[0m in \u001b[0;36m<lambda>\u001b[0;34m(f, *a, **k)\u001b[0m\n\u001b[1;32m    186\u001b[0m     \u001b[0;31m# but it's overkill for just that one bit of state.\u001b[0m\u001b[0;34m\u001b[0m\u001b[0;34m\u001b[0m\u001b[0;34m\u001b[0m\u001b[0m\n\u001b[1;32m    187\u001b[0m     \u001b[0;32mdef\u001b[0m \u001b[0mmagic_deco\u001b[0m\u001b[0;34m(\u001b[0m\u001b[0marg\u001b[0m\u001b[0;34m)\u001b[0m\u001b[0;34m:\u001b[0m\u001b[0;34m\u001b[0m\u001b[0;34m\u001b[0m\u001b[0m\n\u001b[0;32m--> 188\u001b[0;31m         \u001b[0mcall\u001b[0m \u001b[0;34m=\u001b[0m \u001b[0;32mlambda\u001b[0m \u001b[0mf\u001b[0m\u001b[0;34m,\u001b[0m \u001b[0;34m*\u001b[0m\u001b[0ma\u001b[0m\u001b[0;34m,\u001b[0m \u001b[0;34m**\u001b[0m\u001b[0mk\u001b[0m\u001b[0;34m:\u001b[0m \u001b[0mf\u001b[0m\u001b[0;34m(\u001b[0m\u001b[0;34m*\u001b[0m\u001b[0ma\u001b[0m\u001b[0;34m,\u001b[0m \u001b[0;34m**\u001b[0m\u001b[0mk\u001b[0m\u001b[0;34m)\u001b[0m\u001b[0;34m\u001b[0m\u001b[0;34m\u001b[0m\u001b[0m\n\u001b[0m\u001b[1;32m    189\u001b[0m \u001b[0;34m\u001b[0m\u001b[0m\n\u001b[1;32m    190\u001b[0m         \u001b[0;32mif\u001b[0m \u001b[0mcallable\u001b[0m\u001b[0;34m(\u001b[0m\u001b[0marg\u001b[0m\u001b[0;34m)\u001b[0m\u001b[0;34m:\u001b[0m\u001b[0;34m\u001b[0m\u001b[0;34m\u001b[0m\u001b[0m\n",
            "\u001b[0;32m/usr/local/lib/python3.7/dist-packages/IPython/core/magics/execution.py\u001b[0m in \u001b[0;36mtimeit\u001b[0;34m(self, line, cell)\u001b[0m\n\u001b[1;32m   1055\u001b[0m             \u001b[0mnumber\u001b[0m \u001b[0;34m=\u001b[0m \u001b[0;36m1\u001b[0m\u001b[0;34m\u001b[0m\u001b[0;34m\u001b[0m\u001b[0m\n\u001b[1;32m   1056\u001b[0m             \u001b[0;32mfor\u001b[0m \u001b[0m_\u001b[0m \u001b[0;32min\u001b[0m \u001b[0mrange\u001b[0m\u001b[0;34m(\u001b[0m\u001b[0;36m1\u001b[0m\u001b[0;34m,\u001b[0m \u001b[0;36m10\u001b[0m\u001b[0;34m)\u001b[0m\u001b[0;34m:\u001b[0m\u001b[0;34m\u001b[0m\u001b[0;34m\u001b[0m\u001b[0m\n\u001b[0;32m-> 1057\u001b[0;31m                 \u001b[0mtime_number\u001b[0m \u001b[0;34m=\u001b[0m \u001b[0mtimer\u001b[0m\u001b[0;34m.\u001b[0m\u001b[0mtimeit\u001b[0m\u001b[0;34m(\u001b[0m\u001b[0mnumber\u001b[0m\u001b[0;34m)\u001b[0m\u001b[0;34m\u001b[0m\u001b[0;34m\u001b[0m\u001b[0m\n\u001b[0m\u001b[1;32m   1058\u001b[0m                 \u001b[0mworst_tuning\u001b[0m \u001b[0;34m=\u001b[0m \u001b[0mmax\u001b[0m\u001b[0;34m(\u001b[0m\u001b[0mworst_tuning\u001b[0m\u001b[0;34m,\u001b[0m \u001b[0mtime_number\u001b[0m \u001b[0;34m/\u001b[0m \u001b[0mnumber\u001b[0m\u001b[0;34m)\u001b[0m\u001b[0;34m\u001b[0m\u001b[0;34m\u001b[0m\u001b[0m\n\u001b[1;32m   1059\u001b[0m                 \u001b[0;32mif\u001b[0m \u001b[0mtime_number\u001b[0m \u001b[0;34m>=\u001b[0m \u001b[0;36m0.2\u001b[0m\u001b[0;34m:\u001b[0m\u001b[0;34m\u001b[0m\u001b[0;34m\u001b[0m\u001b[0m\n",
            "\u001b[0;32m/usr/local/lib/python3.7/dist-packages/IPython/core/magics/execution.py\u001b[0m in \u001b[0;36mtimeit\u001b[0;34m(self, number)\u001b[0m\n\u001b[1;32m    137\u001b[0m         \u001b[0mgc\u001b[0m\u001b[0;34m.\u001b[0m\u001b[0mdisable\u001b[0m\u001b[0;34m(\u001b[0m\u001b[0;34m)\u001b[0m\u001b[0;34m\u001b[0m\u001b[0;34m\u001b[0m\u001b[0m\n\u001b[1;32m    138\u001b[0m         \u001b[0;32mtry\u001b[0m\u001b[0;34m:\u001b[0m\u001b[0;34m\u001b[0m\u001b[0;34m\u001b[0m\u001b[0m\n\u001b[0;32m--> 139\u001b[0;31m             \u001b[0mtiming\u001b[0m \u001b[0;34m=\u001b[0m \u001b[0mself\u001b[0m\u001b[0;34m.\u001b[0m\u001b[0minner\u001b[0m\u001b[0;34m(\u001b[0m\u001b[0mit\u001b[0m\u001b[0;34m,\u001b[0m \u001b[0mself\u001b[0m\u001b[0;34m.\u001b[0m\u001b[0mtimer\u001b[0m\u001b[0;34m)\u001b[0m\u001b[0;34m\u001b[0m\u001b[0;34m\u001b[0m\u001b[0m\n\u001b[0m\u001b[1;32m    140\u001b[0m         \u001b[0;32mfinally\u001b[0m\u001b[0;34m:\u001b[0m\u001b[0;34m\u001b[0m\u001b[0;34m\u001b[0m\u001b[0m\n\u001b[1;32m    141\u001b[0m             \u001b[0;32mif\u001b[0m \u001b[0mgcold\u001b[0m\u001b[0;34m:\u001b[0m\u001b[0;34m\u001b[0m\u001b[0;34m\u001b[0m\u001b[0m\n",
            "\u001b[0;32m<magic-timeit>\u001b[0m in \u001b[0;36minner\u001b[0;34m(_it, _timer)\u001b[0m\n",
            "\u001b[0;32m<__array_function__ internals>\u001b[0m in \u001b[0;36meinsum\u001b[0;34m(*args, **kwargs)\u001b[0m\n",
            "\u001b[0;32m/usr/local/lib/python3.7/dist-packages/numpy/core/einsumfunc.py\u001b[0m in \u001b[0;36meinsum\u001b[0;34m(out, optimize, *operands, **kwargs)\u001b[0m\n\u001b[1;32m   1357\u001b[0m         \u001b[0;32mif\u001b[0m \u001b[0mspecified_out\u001b[0m\u001b[0;34m:\u001b[0m\u001b[0;34m\u001b[0m\u001b[0;34m\u001b[0m\u001b[0m\n\u001b[1;32m   1358\u001b[0m             \u001b[0mkwargs\u001b[0m\u001b[0;34m[\u001b[0m\u001b[0;34m'out'\u001b[0m\u001b[0;34m]\u001b[0m \u001b[0;34m=\u001b[0m \u001b[0mout\u001b[0m\u001b[0;34m\u001b[0m\u001b[0;34m\u001b[0m\u001b[0m\n\u001b[0;32m-> 1359\u001b[0;31m         \u001b[0;32mreturn\u001b[0m \u001b[0mc_einsum\u001b[0m\u001b[0;34m(\u001b[0m\u001b[0;34m*\u001b[0m\u001b[0moperands\u001b[0m\u001b[0;34m,\u001b[0m \u001b[0;34m**\u001b[0m\u001b[0mkwargs\u001b[0m\u001b[0;34m)\u001b[0m\u001b[0;34m\u001b[0m\u001b[0;34m\u001b[0m\u001b[0m\n\u001b[0m\u001b[1;32m   1360\u001b[0m \u001b[0;34m\u001b[0m\u001b[0m\n\u001b[1;32m   1361\u001b[0m     \u001b[0;31m# Check the kwargs to avoid a more cryptic error later, without having to\u001b[0m\u001b[0;34m\u001b[0m\u001b[0;34m\u001b[0m\u001b[0;34m\u001b[0m\u001b[0m\n",
            "\u001b[0;31mValueError\u001b[0m: einstein sum subscripts string contains too many subscripts for operand 0"
          ]
        }
      ],
      "source": [
        "x = np.random.randint(5e7)\n",
        "\n",
        "%timeit np.power(x,3)\n",
        "%timeit x*x*x\n",
        "%timeit np.einsum('i,i,i->ii',x,x,x)"
      ]
    },
    {
      "cell_type": "markdown",
      "metadata": {
        "id": "hjPQoi25jRRm"
      },
      "source": [
        "#### 93. Consider two arrays A and B of shape (8,3) and (2,2). How to find rows of A that contain elements of each row of B regardless of the order of the elements in B? (★★★) \n",
        "(**hint**: np.where)"
      ]
    },
    {
      "cell_type": "code",
      "execution_count": null,
      "metadata": {
        "id": "KKnl2Tt_jRRn",
        "colab": {
          "base_uri": "https://localhost:8080/"
        },
        "outputId": "76be55b9-4a56-4a75-da5c-22c85f99d14a"
      },
      "outputs": [
        {
          "output_type": "stream",
          "name": "stdout",
          "text": [
            "[0 2 5 7]\n"
          ]
        }
      ],
      "source": [
        "x = np.random.randint(0,5,(8,3))\n",
        "y = np.random.randint(0,5,(2,2))\n",
        "\n",
        "z = (x[..., np.newaxis, np.newaxis] == y)\n",
        "rows = np.where(z.any((3,1)).all(1))[0]\n",
        "print(rows)"
      ]
    },
    {
      "cell_type": "markdown",
      "metadata": {
        "id": "8o1aSw4ujRRn"
      },
      "source": [
        "#### 94. Considering a 10x3 matrix, extract rows with unequal values (e.g. \\[2,2,3\\]) (★★★)"
      ]
    },
    {
      "cell_type": "code",
      "execution_count": null,
      "metadata": {
        "id": "cu5F6hoNjRRo",
        "colab": {
          "base_uri": "https://localhost:8080/"
        },
        "outputId": "c89b4f26-bce0-4824-9962-09139e11ddbe"
      },
      "outputs": [
        {
          "output_type": "stream",
          "name": "stdout",
          "text": [
            "[[1 3 3]\n",
            " [0 0 1]\n",
            " [2 4 4]\n",
            " [2 1 4]\n",
            " [3 0 3]\n",
            " [4 1 4]\n",
            " [4 3 3]\n",
            " [0 2 4]\n",
            " [0 0 2]\n",
            " [3 0 4]]\n",
            "[[1 3 3]\n",
            " [0 0 1]\n",
            " [2 4 4]\n",
            " [2 1 4]\n",
            " [3 0 3]\n",
            " [4 1 4]\n",
            " [4 3 3]\n",
            " [0 2 4]\n",
            " [0 0 2]\n",
            " [3 0 4]]\n"
          ]
        }
      ],
      "source": [
        "x = np.random.randint(0,5,(10,3))\n",
        "print(x)\n",
        "c = np.all(x[:,1:]==x[:,:-1], axis = 1)\n",
        "d = x[~c]\n",
        "print(d)"
      ]
    },
    {
      "cell_type": "markdown",
      "metadata": {
        "id": "B07J8sSMjRRo"
      },
      "source": [
        "#### 95. Convert a vector of ints into a matrix binary representation (★★★) \n",
        "(**hint**: np.unpackbits)"
      ]
    },
    {
      "cell_type": "code",
      "execution_count": null,
      "metadata": {
        "id": "hwzca0PYjRRv",
        "colab": {
          "base_uri": "https://localhost:8080/"
        },
        "outputId": "73318eb5-c34b-468d-df67-376c7284740c"
      },
      "outputs": [
        {
          "output_type": "stream",
          "name": "stdout",
          "text": [
            "[[0 0 0 0 0 0 0 0]\n",
            " [0 0 0 0 0 0 0 1]\n",
            " [0 0 0 0 0 0 1 0]\n",
            " [0 0 0 0 0 1 0 0]\n",
            " [0 0 0 1 0 0 0 0]\n",
            " [0 0 1 0 0 0 0 0]\n",
            " [0 1 0 0 0 0 0 0]\n",
            " [1 0 0 0 0 0 0 0]\n",
            " [0 0 0 0 0 1 1 1]\n",
            " [0 0 0 0 1 0 0 1]\n",
            " [0 0 0 0 1 1 0 1]]\n"
          ]
        }
      ],
      "source": [
        "z = np.array([0,1,2,4,16,32,64,128,7,9,13], dtype = np.uint8)\n",
        "print(np.unpackbits(z[:, np.newaxis],axis = 1))"
      ]
    },
    {
      "cell_type": "markdown",
      "metadata": {
        "id": "YjexSyy1jRRv"
      },
      "source": [
        "#### 96. Given a two dimensional array, how to extract unique rows? (★★★) \n",
        "(**hint**: np.ascontiguousarray)"
      ]
    },
    {
      "cell_type": "code",
      "execution_count": null,
      "metadata": {
        "id": "MaZMX-y4jRRv",
        "colab": {
          "base_uri": "https://localhost:8080/"
        },
        "outputId": "72596228-6798-428f-b3fd-dd454716f31c"
      },
      "outputs": [
        {
          "output_type": "stream",
          "name": "stdout",
          "text": [
            "[[0 0 0 0]\n",
            " [0 0 0 1]\n",
            " [0 1 1 1]\n",
            " [1 0 0 0]\n",
            " [1 1 0 0]\n",
            " [1 1 1 1]]\n"
          ]
        }
      ],
      "source": [
        "x = np.random.randint(0,2,(9,4))\n",
        "a = np.ascontiguousarray(x).view(np.dtype((np.void, x.dtype.itemsize * x.shape[1])))\n",
        "_, id = np.unique(a, return_index = True)\n",
        "v = x[id]\n",
        "print(v)"
      ]
    },
    {
      "cell_type": "markdown",
      "metadata": {
        "id": "W8hA_ZqHjRRv"
      },
      "source": [
        "#### 97. Considering 2 vectors A & B, write the einsum equivalent of inner, outer, sum, and mul function (★★★) \n",
        "(**hint**: np.einsum)"
      ]
    },
    {
      "cell_type": "code",
      "execution_count": null,
      "metadata": {
        "id": "yDG7JQTpjRRv",
        "colab": {
          "base_uri": "https://localhost:8080/"
        },
        "outputId": "c7f396aa-48b3-4d45-9cd7-873447bf9aee"
      },
      "outputs": [
        {
          "output_type": "execute_result",
          "data": {
            "text/plain": [
              "array([[0.14347476, 0.07316486, 0.09558327, 0.04666386, 0.13220521],\n",
              "       [0.54158352, 0.27618015, 0.36080438, 0.1761451 , 0.49904359],\n",
              "       [0.46864456, 0.23898498, 0.31221225, 0.15242237, 0.43183379],\n",
              "       [0.07182884, 0.03662907, 0.04785256, 0.02336167, 0.06618687],\n",
              "       [0.48871369, 0.24921922, 0.32558235, 0.15894967, 0.45032654]])"
            ]
          },
          "metadata": {},
          "execution_count": 100
        }
      ],
      "source": [
        "A = np.random.uniform(0,1,5)\n",
        "B = np.random.uniform(0,1,5)\n",
        "\n",
        "np.einsum('i->', A)\n",
        "np.einsum('i,i->i', A, B)\n",
        "np.einsum('i,i', A, B)\n",
        "np.einsum('i,j->ij', A, B)"
      ]
    },
    {
      "cell_type": "markdown",
      "metadata": {
        "id": "5J7ef5r5jRRv"
      },
      "source": [
        "#### 98. Considering a path described by two vectors (X,Y), how to sample it using equidistant samples (★★★)? \n",
        "(**hint**: np.cumsum, np.interp)"
      ]
    },
    {
      "cell_type": "code",
      "execution_count": null,
      "metadata": {
        "collapsed": true,
        "id": "-hyxITDfjRRw"
      },
      "outputs": [],
      "source": [
        "phi = np.arange(0, 10*np.pi, 0.1)\n",
        "a = 1\n",
        "x = a*phi*np.cos(phi)\n",
        "y = a*phi*np.sin(phi)\n",
        "\n",
        "dr = (np.diff(x)**2 + np.diff(y)**2)**0.5\n",
        "r = np.zeros_like(x)\n",
        "r[1:] = np.cumsum(dr)\n",
        "r_int = np.linspace(0, r.max(), 200)\n",
        "x_int = np.interp(r_int, r, x)\n",
        "y_int = np.interp(r_int, r, y)"
      ]
    },
    {
      "cell_type": "markdown",
      "metadata": {
        "id": "o8cSs6kHjRRw"
      },
      "source": [
        "#### 99. Given an integer n and a 2D array X, select from X the rows which can be interpreted as draws from a multinomial distribution with n degrees, i.e., the rows which only contain integers and which sum to n. (★★★) \n",
        "(**hint**: np.logical\\_and.reduce, np.mod)"
      ]
    },
    {
      "cell_type": "code",
      "execution_count": null,
      "metadata": {
        "id": "DfXmYMr_jRRw",
        "colab": {
          "base_uri": "https://localhost:8080/"
        },
        "outputId": "9f840673-585c-4aa5-f7de-a1f60224776e"
      },
      "outputs": [
        {
          "output_type": "stream",
          "name": "stdout",
          "text": [
            "[[2. 0. 1. 1.]]\n"
          ]
        }
      ],
      "source": [
        "c = np.asarray([[1.0, 0.0, 3.0, 8.0],\n",
        "                [2.0, 0.0, 1.0, 1.0],\n",
        "                [1.5, 2.5, 1.0, 0.0]])\n",
        "n = 4\n",
        "z = np.logical_and.reduce(np.mod(c, 1) == 0, axis=-1)\n",
        "z &= (c.sum(axis=-1) == n)\n",
        "print(c[z])"
      ]
    },
    {
      "cell_type": "markdown",
      "metadata": {
        "id": "x7QVlw84jRRw"
      },
      "source": [
        "#### 100. Compute bootstrapped 95% confidence intervals for the mean of a 1D array X (i.e., resample the elements of an array with replacement N times, compute the mean of each sample, and then compute percentiles over the means). (★★★) \n",
        "(**hint**: np.percentile)"
      ]
    },
    {
      "cell_type": "code",
      "execution_count": null,
      "metadata": {
        "id": "ovbQDWrYjRRw",
        "colab": {
          "base_uri": "https://localhost:8080/"
        },
        "outputId": "2f3e3898-1b0e-468a-af31-4aa1de0f4eda"
      },
      "outputs": [
        {
          "output_type": "stream",
          "name": "stdout",
          "text": [
            "[-0.27649796  0.06947701]\n"
          ]
        }
      ],
      "source": [
        "a = np.random.randn(100)\n",
        "n = 1000\n",
        "x = np.random.randint(0,a.size,(n, a.size))\n",
        "mn = a[x].mean(axis=1)\n",
        "con = np.percentile(mn, [2.5, 97.5])\n",
        "print(con)"
      ]
    }
  ],
  "metadata": {
    "kernelspec": {
      "display_name": "Python 3",
      "language": "python",
      "name": "python3"
    },
    "language_info": {
      "codemirror_mode": {
        "name": "ipython",
        "version": 3
      },
      "file_extension": ".py",
      "mimetype": "text/x-python",
      "name": "python",
      "nbconvert_exporter": "python",
      "pygments_lexer": "ipython3",
      "version": "3.8.3"
    },
    "colab": {
      "name": "Task2.ipynb",
      "provenance": [],
      "collapsed_sections": []
    }
  },
  "nbformat": 4,
  "nbformat_minor": 0
}